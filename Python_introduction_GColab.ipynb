{
 "cells": [
  {
   "attachments": {},
   "cell_type": "markdown",
   "metadata": {},
   "source": [
    "# Google Colaboratory\n",
    "Google Colaboratory ([colab.research.google.com](colab.research.google.com)), also known as Google Colab, is a free online platform for developing, running and sharing Jupyter notebooks that runs in the cloud. I provides an already set-up Jupyter notebook environment you can use for machine learning, data analysis and scientific computing.\n",
    "\n",
    "Here are the steps to use the Jupyter notebook in Google Colab through our course:\n",
    "1. Go to [PythonTraining_Hexavarsity](https://colab.research.google.com/github/alientometal/PythonTraining_Hexavarsity_05_2023) and sign in to your Google account.\n",
    "2. Click on\n",
    "3. Write and run your code in the notebook cells. You can add code cells by clicking on the \"Code\" button in the toolbar or by using the shortcut `Ctrl` + `m` then `b`.\n",
    "4. You can also add text, images, and other media to your notebook by adding [Markdown](https://jupyter-notebook.readthedocs.io/en/stable/examples/Notebook/Working%20With%20Markdown%20Cells.html) cells.\n",
    "5. You can run a code cell by clicking on the \"Play\" button in the toolbar or by using the shortcut `Ctrl` + `Enter`.\n",
    "6. To install packages, use the !pip install command, for example `!pip install numpy`.\n",
    "7. To save your work, click on the \"File\" menu and then \"Save a copy in Drive.\" You can also download the notebook in various formats, including `.ipynb` and `.py`.\n",
    "8. To share your notebook, click on \"File\" and then \"Share.\" You can give access to specific people or make it public.\n",
    "\n",
    "\n",
    "**Note:** Google Colab provides temporary virtual machines with a GPU or TPU, so you can run your code on these high-performance devices. (You can select the runtime type by clicking on \"Runtime\" and then \"Change runtime type.\")  \n",
    "Keep in mind that the data and computations you run in Google Colab are stored on Google's servers, so make sure you are aware of their privacy policy."
   ]
  },
  {
   "attachments": {},
   "cell_type": "markdown",
   "metadata": {},
   "source": [
    "# Markdown in Jupyter notebooks\n",
    "Markdown is a popular markup language that is a superset of HTML. Text can be added to Jupyter Notebooks using Markdown cells. You can change the cell type to Markdown by using the key shortcut `Ctrl` + `m` then `m` or directly specifiying in the toolbar menu. <a href= https://jupyter-notebook.readthedocs.io/en/stable/examples/Notebook/Working%20With%20Markdown%20Cells.html>Here</a> is the documentation with some examples.\n",
    "\n",
    "Markdown cells in Jupyter notebooks allow you to format text using simple syntax.  \n",
    "Here are the steps to use Markdown cells in Jupyter notebooks provided by Google Colab:\n",
    "\n",
    "1. Create a new notebook in Google Colab or open an existing one.\n",
    "2. Click on the \"+\" button to add a new cell.\n",
    "3. Select \"Markdown\" from the drop-down menu in the toolbar at the top of the notebook.\n",
    "4. Type your Markdown syntax into the cell, using the appropriate formatting tags. For example, to create a heading, use one or more \"#\" symbols before the text, like this:\n",
    "\n",
    "    # This is a heading\n",
    "    ## This is a subheading\n",
    "    ### This is a sub-subheading\n",
    "\n",
    "5. To add emphasis to text, use asterisks or underscores before and after the text. For example:\n",
    "\n",
    "    *This text will be italicized*\n",
    "    _This text will also be italicized_\n",
    "\n",
    "    **This text will be bold**\n",
    "    __This text will also be bold__\n",
    "\n",
    "6. To create lists, use hyphens or asterisks for unordered lists and numbers for ordered lists. For example:\n",
    "\n",
    "    - Item 1\n",
    "    - Item 2\n",
    "    - Item 3\n",
    "\n",
    "    1. First item\n",
    "    2. Second item\n",
    "    3. Third item\n",
    "\n",
    "7. Once you have written your Markdown, press \"Shift + Enter\" to render the Markdown into formatted text.\n",
    "\n",
    "**Note:** You can also use HTML syntax in Markdown cells to format text, but it is usually simpler and easier to use the Markdown syntax.\n",
    "\n"
   ]
  },
  {
   "attachments": {},
   "cell_type": "markdown",
   "metadata": {},
   "source": [
    "\n",
    "# Ipython\n",
    "\n",
    "IPython stands for interactive python, it is a powerfull interactive shell that provides a Python kernel for Jupyter notebooks and other interactive frontends.\n",
    "\n",
    "One of the most useful features of Ipython are the magic commands.\n",
    "\n",
    "## Magic commands\n",
    "\n",
    "IPython kernel uses the `%` syntax element for Magics as `%` is not a valid unary operator in Python. Here we show some useful IPython Magics\n",
    "\n",
    "[matplotlib](https://ipython.readthedocs.io/en/stable/interactive/magics.html#magic-matplotlib) - To enable the inline backend for usage with the Jupyter Notebook:\n",
    "```Python\n",
    "%matplotlib inline\n",
    "```\n",
    "\n",
    "[pip](https://ipython.readthedocs.io/en/stable/interactive/magics.html#magic-pip) - Run the pip package manager within the current kernel.\n",
    "```Python\n",
    "%pip\n",
    "```\n",
    "\n",
    "[pwd](https://ipython.readthedocs.io/en/stable/interactive/magics.html#magic-pwd) - Return the current working directory path.\n",
    "```Python\n",
    "%pwd\n",
    "```\n",
    "\n",
    "[reload_ext](https://ipython.readthedocs.io/en/stable/interactive/magics.html#magic-reload_ext) - Reload an IPython extension by its module name.\n",
    "```Python\n",
    "%reload_ext\n",
    "```\n",
    "\n",
    "[run](https://ipython.readthedocs.io/en/stable/interactive/magics.html#magic-run) - Run the named file inside IPython as a program.\n",
    "```Python\n",
    "%run\n",
    "```\n",
    "\n",
    "[writefile](https://ipython.readthedocs.io/en/stable/interactive/magics.html#cellmagic-writefile) - Write the contents of the cell to a file.\n",
    "```Python\n",
    "%%writefile\n",
    "```\n",
    "\n",
    "[timeit](https://ipython.readthedocs.io/en/stable/interactive/magics.html#magic-timeit) - Time execution of a Python statement or expression. \n",
    "```Python\n",
    "# Usage in line mode:\n",
    "%timeit\n",
    "\n",
    "# Usage in cell mode:\n",
    "%%timeit\n",
    "```"
   ]
  },
  {
   "attachments": {},
   "cell_type": "markdown",
   "metadata": {},
   "source": [
    "> Content created by **Carlos Cruz-Maldonado**.  \n",
    "> Feel free to ping me at any time."
   ]
  }
 ],
 "metadata": {
  "kernelspec": {
   "display_name": "Python 3.7.9 ('personal')",
   "language": "python",
   "name": "python3"
  },
  "language_info": {
   "codemirror_mode": {
    "name": "ipython",
    "version": 3
   },
   "file_extension": ".py",
   "mimetype": "text/x-python",
   "name": "python",
   "nbconvert_exporter": "python",
   "pygments_lexer": "ipython3",
   "version": "3.7.9"
  },
  "orig_nbformat": 4,
  "vscode": {
   "interpreter": {
    "hash": "252948c43895fb2cefa730c41b16e760efc56873c993d09cfc8bab107a8b51fd"
   }
  }
 },
 "nbformat": 4,
 "nbformat_minor": 2
}
