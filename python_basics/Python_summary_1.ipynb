{
 "cells": [
  {
   "attachments": {},
   "cell_type": "markdown",
   "metadata": {},
   "source": [
    "# Summary"
   ]
  },
  {
   "attachments": {},
   "cell_type": "markdown",
   "metadata": {},
   "source": [
    "Category|Subcategory|Description|Example\n",
    "---|---|---|---|\n",
    "Variables|Declaration|Variables are used to store data. In Python, variables are created when you assign a value to them.|`python x = 5`\n",
    "||Naming|Variables can have letters (a-z, A-Z), digits (0-9), and underscores (_), but must not start with a digit.|`my_variable = 42`\n",
    "Data Types|int|Integer data type, used for whole numbers.|`x = 7`\n",
    "||float|Floating-point data type, used for real numbers with decimal points.|`x = 3.14`\n",
    "||str|String data type, used for text. Enclosed in single or double quotes.|`x = \"Hello, World!\"`\n",
    "||bool|Boolean data type, used for True or False values.|`x = True`\n",
    "||list|Ordered, mutable collection of items. Enclosed in square brackets.|`x = [1, 2, 3]`\n",
    "||tuple|Ordered, immutable collection of items. Enclosed in parentheses.|`x = (1, 2, 3)`\n",
    "||set|Unordered, mutable collection of unique items. Enclosed in curly braces.|`x = {1, 2, 3}`\n",
    "||dict|Unordered collection of key-value pairs. Enclosed in curly braces with keys and values separated by colons.|`x = {\"key\": \"value\"}`\n",
    "Basic Operators|Arithmetic|+, -, *, /, %, **, //|`x = 5 + 3`\n",
    "||Comparison|==, !=, <, >, <=, >=|`x = 5 < 3`\n",
    "||Logical|and, or, not|`x = True and False`\n",
    "||Assignment|=, +=, -=, *=, /=, %=, **=, //=|`x = 5; x += 3; x = x + 3`\n",
    "||Membership|in, not in|`x = 3 in [1, 2, 3]`\n",
    "||Identity|is, is not|`x = [1, 2]; y = [1, 2]; z = x is not y`"
   ]
  },
  {
   "attachments": {},
   "cell_type": "markdown",
   "metadata": {},
   "source": [
    "Category|Subcategory|Description|Example\n",
    "|---|---|---|---|\n",
    "Conditionals|if|The if statement is used to test a specific condition. If the condition is True, the indented block of code under the if statement will be executed.|`if x > 0: print(\"Positive\")`\n",
    "||elif|The elif statement is used to test additional conditions after an if statement. If the if condition is False and the elif condition is True, the indented block of code under the elif statement will be executed.|`elif x < 0: print(\"Negative\")`\n",
    "||else|The else statement is used to execute a block of code if all previous conditions (if and elif) are False. The else block is optional and should be placed after all the if and elif statements.|`else: print(\"Zero\")`\n",
    "Loops|while|The while loop is used to execute a block of code repeatedly as long as a given condition is True. Be careful to avoid infinite loops by ensuring that the condition eventually becomes False.|`count = 0 while count < 5: print(count) count += 1`\n",
    "||for|The for loop is used to iterate over a sequence (such as a list, tuple, or string) and execute a block of code for each item in the sequence. The range() function is often used with for loops to generate a sequence of numbers.|`for i in range(5): print(i)`"
   ]
  },
  {
   "attachments": {},
   "cell_type": "markdown",
   "metadata": {},
   "source": [
    "Category|Subcategory|Description|Example\n",
    "|---|---|---|---|\n",
    "Error Handling|try|The `try` block is used to enclose a section of code that might raise an exception. If an exception is raised, the code within the `try` block stops executing, and the code in the corresponding `except` block is executed.|`try: result = 5 / 0 except ZeroDivisionError: print(\"Cannot divide by zero\")`\n",
    "||except|The `except` block is used to catch a specific exception or multiple exceptions. If an exception is caught, the code within the `except` block is executed.|`except (TypeError, ValueError): print(\"Invalid input\")`\n",
    "||finally|The `finally` block is used to specify code that must be executed regardless of whether an exception was raised or not. The `finally` block is optional and should be placed after all `try` and `except` blocks.|`finally: print(\"This code will always run\")`\n",
    "Modules|Importing|Modules are Python files containing code (functions, classes, variables) that can be used in other Python files. To use a module, you need to import it using the `import` keyword.|`import math`\n",
    "||Aliasing|You can use an alias when importing a module to give it a shorter or more descriptive name.|`import numpy as np`\n",
    "||From Import|You can import specific items from a module using the `from` keyword. This allows you to use those items directly without having to use the module name as a prefix.|`from math import sqrt, pi`\n",
    "Packages|Creating|A package is a collection of related modules organized in a directory hierarchy. To create a package, create a directory with a meaningful name, and place an `__init__.py` file inside the directory. This file can be empty or contain initialization code for the package.|`my_package/ ├── init.py └── my_module.py`\n",
    "||Importing|To import a module from a package, use the package name followed by the module name, separated by a dot.|`import my_package.my_module`"
   ]
  },
  {
   "attachments": {},
   "cell_type": "markdown",
   "metadata": {},
   "source": [
    "> Content created by **Carlos Cruz-Maldonado**.  \n",
    "> Feel free to ping me at any time."
   ]
  }
 ],
 "metadata": {
  "language_info": {
   "name": "python"
  },
  "orig_nbformat": 4
 },
 "nbformat": 4,
 "nbformat_minor": 2
}
