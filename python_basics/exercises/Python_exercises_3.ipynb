{
 "cells": [
  {
   "attachments": {},
   "cell_type": "markdown",
   "metadata": {},
   "source": [
    "# Exercise: Word Analysis\n",
    "\n",
    "This exercise demonstrates the use of various string methods and attributes to manipulate and perform operations on lists in Python.\n",
    "\n",
    "Create a function called `word_analysis` that takes a string as input and performs the following tasks using string methods:\n",
    "1. Count the number of occurrences of the word \"Python\" (case-insensitive).\n",
    "2. Check if the string ends with a period.\n",
    "3. Find the index of the first occurrence of the word \"code\" (case-insensitive), or return -1 if not found.\n",
    "4. Join all words in the string using hyphens.\n",
    "5. Partition the string at the first occurrence of the word \"programming\" (case-insensitive).\n",
    "6. Replace all occurrences of the word \"computer\" with the word \"PC\" (case-insensitive).\n",
    "7. Split the string into a list of words.\n",
    "\n",
    "Return the results as a dictionary.\n",
    "\n",
    "**Note:** Use the `lower()` method to make the search and replacement case-insensitive."
   ]
  },
  {
   "attachments": {},
   "cell_type": "markdown",
   "metadata": {},
   "source": [
    "### Example:"
   ]
  },
  {
   "cell_type": "code",
   "execution_count": null,
   "metadata": {},
   "outputs": [],
   "source": [
    "text = \"Python is a programming language. You can learn Python and write code on your computer. Computer programming is fun. Learn to code with Python.\"\n",
    "\n",
    "result = word_analysis(text)\n",
    "\n",
    "print(result)"
   ]
  },
  {
   "attachments": {},
   "cell_type": "markdown",
   "metadata": {},
   "source": [
    "### Expected Output:"
   ]
  },
  {
   "cell_type": "code",
   "execution_count": null,
   "metadata": {},
   "outputs": [],
   "source": [
    "{\n",
    "  'count': 3,\n",
    "  'endswith': True,\n",
    "  'find': 65,\n",
    "  'join': 'Python-is-a-programming-language.-You-can-learn-Python-and-write-code-on-your-computer.-Computer-programming-is-fun.-Learn-to-code-with-Python.',\n",
    "  'partition': ('Python is a ', 'programming', ' language. You can learn Python and write code on your computer. Computer programming is fun. Learn to code with Python.'),\n",
    "  'replace': 'Python is a programming language. You can learn Python and write code on your PC. PC programming is fun. Learn to code with Python.',\n",
    "  'split': ['Python', 'is', 'a', 'programming', 'language.', 'You', 'can', 'learn', 'Python', 'and', 'write', 'code', 'on', 'your', 'computer.', 'Computer', 'programming', 'is', 'fun.', 'Learn', 'to', 'code', 'with', 'Python.']\n",
    "}"
   ]
  },
  {
   "attachments": {},
   "cell_type": "markdown",
   "metadata": {},
   "source": [
    "# Exercise: List Manipulation\n",
    "\n",
    "This exercise demonstrates the use of various list methods and attributes to manipulate and combine lists in Python.\n",
    "\n",
    "Create a function called `list_manipulation` that takes two lists, `list1` and `list2`, as input and performs the following tasks using list methods and attributes:\n",
    "\n",
    "1. Find the index of the first occurrence of the number 5 in `list1`. If not found, return -1.\n",
    "2. Create a slice of `list1` from index 2 to index 4 (inclusive).\n",
    "3. Count the number of occurrences of the number 3 in `list1`.\n",
    "4. Extend `list1` with `list2`.\n",
    "   1. Insert the number 42 at index 1 in the resulting list.\n",
    "   2. Reverse the resulting list.\n",
    "   3. Sort the resulting list in ascending order.\n",
    "\n",
    "Return the values from tasks 1, 2, 3, and the final list after performing all these operations."
   ]
  },
  {
   "cell_type": "code",
   "execution_count": null,
   "metadata": {},
   "outputs": [],
   "source": [
    "test_list[beginning:ending:steps] "
   ]
  },
  {
   "cell_type": "code",
   "execution_count": 55,
   "metadata": {},
   "outputs": [
    {
     "data": {
      "text/plain": [
       "[1, 5, 8, 3, 6, 5, 9, 3, 2]"
      ]
     },
     "execution_count": 55,
     "metadata": {},
     "output_type": "execute_result"
    }
   ],
   "source": [
    "list1"
   ]
  },
  {
   "cell_type": "code",
   "execution_count": 27,
   "metadata": {},
   "outputs": [
    {
     "data": {
      "text/plain": [
       "[7, 4, 3, 1]"
      ]
     },
     "execution_count": 27,
     "metadata": {},
     "output_type": "execute_result"
    }
   ],
   "source": [
    "list2"
   ]
  },
  {
   "cell_type": "code",
   "execution_count": 51,
   "metadata": {},
   "outputs": [],
   "source": [
    "list1.reverse()"
   ]
  },
  {
   "cell_type": "code",
   "execution_count": 56,
   "metadata": {},
   "outputs": [
    {
     "data": {
      "text/plain": [
       "[2, 3, 9, 5, 6, 3, 8, 5, 1]"
      ]
     },
     "execution_count": 56,
     "metadata": {},
     "output_type": "execute_result"
    }
   ],
   "source": [
    "list1[::-1]"
   ]
  },
  {
   "cell_type": "code",
   "execution_count": 58,
   "metadata": {},
   "outputs": [
    {
     "data": {
      "text/plain": [
       "[2, 3, 9, 5, 6, 3, 8, 5, 1]"
      ]
     },
     "execution_count": 58,
     "metadata": {},
     "output_type": "execute_result"
    }
   ],
   "source": [
    "list(reversed(list1))"
   ]
  },
  {
   "cell_type": "code",
   "execution_count": 66,
   "metadata": {},
   "outputs": [],
   "source": [
    "list1.sort()"
   ]
  },
  {
   "cell_type": "code",
   "execution_count": 67,
   "metadata": {},
   "outputs": [
    {
     "data": {
      "text/plain": [
       "[1, 2, 3, 3, 5, 5, 6, 8, 9]"
      ]
     },
     "execution_count": 67,
     "metadata": {},
     "output_type": "execute_result"
    }
   ],
   "source": [
    "list1"
   ]
  },
  {
   "cell_type": "code",
   "execution_count": 76,
   "metadata": {},
   "outputs": [],
   "source": [
    "def list_manipulation(list1, list2):\n",
    "    get_index = list1.index(5)\n",
    "    get_slice = list1[2:4 + 1]\n",
    "    get_ocurrences = list1.count(3)\n",
    "    \n",
    "    temp_list1 = list1.copy()\n",
    "    temp_list1.extend(list2)\n",
    "    temp_list1.insert(1, 42)\n",
    "    temp_list1.reverse()\n",
    "    temp_list1.sort()\n",
    "    \n",
    "    return get_index, get_slice, get_ocurrences, temp_list1"
   ]
  },
  {
   "attachments": {},
   "cell_type": "markdown",
   "metadata": {},
   "source": [
    "### Example:"
   ]
  },
  {
   "cell_type": "code",
   "execution_count": 77,
   "metadata": {},
   "outputs": [
    {
     "name": "stdout",
     "output_type": "stream",
     "text": [
      "(1, [8, 3, 6], 2, [1, 1, 2, 3, 3, 3, 4, 5, 5, 6, 7, 8, 9, 42])\n"
     ]
    }
   ],
   "source": [
    "list1 = [1, 5, 8, 3, 6, 5, 9, 3, 2]\n",
    "list2 = [7, 4, 3, 1]\n",
    "\n",
    "result = list_manipulation(list1, list2)\n",
    "\n",
    "print(result)"
   ]
  },
  {
   "cell_type": "code",
   "execution_count": 50,
   "metadata": {},
   "outputs": [
    {
     "data": {
      "text/plain": [
       "[1, 5, 8, 3, 6, 5, 9, 3, 2]"
      ]
     },
     "execution_count": 50,
     "metadata": {},
     "output_type": "execute_result"
    }
   ],
   "source": [
    "list1"
   ]
  },
  {
   "attachments": {},
   "cell_type": "markdown",
   "metadata": {},
   "source": [
    "### Expected Output:"
   ]
  },
  {
   "cell_type": "code",
   "execution_count": 78,
   "metadata": {},
   "outputs": [],
   "source": [
    "expected_output = (1, [8, 3, 6], 2, [1, 1, 2, 3, 3, 3, 4, 5, 5, 6, 7, 8, 9, 42])\n",
    "assert result == expected_output, \"Output is different from expected\""
   ]
  },
  {
   "attachments": {},
   "cell_type": "markdown",
   "metadata": {},
   "source": [
    "# Exercise: Tuple Manipulation\n",
    "\n",
    "This exercise demonstrates the differences between lists and tuples, particularly the immutability of tuples.\n",
    "\n",
    "Create a function called `tuple_manipulation` that takes two tuples, `tuple1` and `tuple2`, as input and performs the following tasks:\n",
    "\n",
    "1. Find the index of the first occurrence of the number 5 in `tuple1`. If not found, return -1.\n",
    "2. Create a slice of `tuple1` from index 2 to index 4 (inclusive).\n",
    "3. Count the number of occurrences of the number 3 in `tuple1`.\n",
    "4. Create a new tuple that concatenates `tuple1` and `tuple2`.\n",
    "   1. Create a new tuple with the number 42 inserted at index 1 in the concatenated tuple.\n",
    "   2. Create a new tuple that contains the elements of the concatenated tuple in reverse order.\n",
    "   3. Create a new tuple that contains the elements of the reversed tuple in ascending order.\n",
    "\n",
    "Return the values from tasks 1, 2, 3, and the final tuple after performing all these operations.\n",
    "\n",
    "**Note:** Tuples are immutable, so you cannot directly modify them using methods like `extend`, `insert`, `reverse`, or `sort`. Instead, you will need to create new tuples to store the results of each operation."
   ]
  },
  {
   "attachments": {},
   "cell_type": "markdown",
   "metadata": {},
   "source": [
    "### Example:"
   ]
  },
  {
   "cell_type": "code",
   "execution_count": null,
   "metadata": {},
   "outputs": [],
   "source": [
    "tuple1 = (1, 5, 8, 3, 6, 5, 9, 3, 2)\n",
    "tuple2 = (7, 4, 3, 1)\n",
    "\n",
    "result = tuple_manipulation(tuple1, tuple2)\n",
    "\n",
    "print(result)"
   ]
  },
  {
   "attachments": {},
   "cell_type": "markdown",
   "metadata": {},
   "source": [
    "### Expected Output:"
   ]
  },
  {
   "cell_type": "code",
   "execution_count": null,
   "metadata": {},
   "outputs": [],
   "source": [
    "(1, (8, 3, 6), 2, (1, 1, 2, 3, 3, 3, 4, 5, 5, 6, 7, 8, 9, 42))"
   ]
  },
  {
   "attachments": {},
   "cell_type": "markdown",
   "metadata": {},
   "source": [
    "# Exercise: Set Manipulation\n",
    "\n",
    "This exercise demonstrates the use of various set methods and attributes to manipulate and perform operations on sets in Python.\n",
    "\n",
    "Create a function called `set_manipulation` that takes two sets, `set1` and `set2`, as input and performs the following tasks using set methods and attributes:\n",
    "\n",
    "1. Add the number 42 to `set1`.\n",
    "2. Remove the number 5 from `set1` if it exists.\n",
    "3. Find the union of `set1` and `set2`.\n",
    "4. Find the intersection of `set1` and `set2`.\n",
    "5. Find the difference between `set1` and `set2` (elements in `set1` but not in `set2`).\n",
    "6. Find the symmetric difference between `set1` and `set2` (elements in either `set1` or `set2`, but not in both).\n",
    "\n",
    "Return the results as a dictionary."
   ]
  },
  {
   "attachments": {},
   "cell_type": "markdown",
   "metadata": {},
   "source": [
    "### Example:"
   ]
  },
  {
   "cell_type": "code",
   "execution_count": null,
   "metadata": {},
   "outputs": [],
   "source": [
    "set1 = {1, 2, 3, 4, 5, 6}\n",
    "set2 = {4, 5, 6, 7, 8, 9}\n",
    "\n",
    "result = set_manipulation(set1, set2)\n",
    "\n",
    "print(result)"
   ]
  },
  {
   "attachments": {},
   "cell_type": "markdown",
   "metadata": {},
   "source": [
    "### Expected Output:"
   ]
  },
  {
   "cell_type": "code",
   "execution_count": null,
   "metadata": {},
   "outputs": [],
   "source": [
    "{\n",
    "  'add': {1, 2, 3, 4, 6, 42},\n",
    "  'remove': {1, 2, 3, 4, 6, 42},\n",
    "  'union': {1, 2, 3, 4, 5, 6, 7, 8, 9, 42},\n",
    "  'intersection': {4, 6},\n",
    "  'difference': {1, 2, 3, 42},\n",
    "  'symmetric_difference': {1, 2, 3, 5, 7, 8, 9, 42}\n",
    "}"
   ]
  },
  {
   "attachments": {},
   "cell_type": "markdown",
   "metadata": {},
   "source": [
    "# Exercise: Dictionary Manipulation\n",
    "\n",
    "Create a function called `dictionary_manipulation` that takes a dictionary, `dict1`, as input and performs the following tasks using dictionary methods and attributes:\n",
    "\n",
    "1. Check if the key 'language' is in `dict1`.\n",
    "2. Get the value of the key 'year', with a default value of 2020 if the key is not present.\n",
    "3. Get a list of all key-value pairs in the dictionary using the `items()` method.\n",
    "4. Get a list of all keys in the dictionary using the `keys()` method.\n",
    "5. Get a list of all values in the dictionary using the `values()` method.\n",
    "6. Update the value of the key 'year' to 2023 if it is present in the dictionary.\n",
    "7. Remove the key 'developer' from the dictionary if it exists.\n",
    "\n",
    "Return the results as a dictionary."
   ]
  },
  {
   "attachments": {},
   "cell_type": "markdown",
   "metadata": {},
   "source": [
    "### Example:"
   ]
  },
  {
   "cell_type": "code",
   "execution_count": null,
   "metadata": {},
   "outputs": [],
   "source": [
    "dict1 = {\n",
    "    'language': 'Python',\n",
    "    'year': 1991,\n",
    "    'developer': 'Guido van Rossum'\n",
    "}\n",
    "\n",
    "result = dictionary_manipulation(dict1)\n",
    "\n",
    "print(result)"
   ]
  },
  {
   "attachments": {},
   "cell_type": "markdown",
   "metadata": {},
   "source": [
    "### Expected Output:"
   ]
  },
  {
   "cell_type": "code",
   "execution_count": null,
   "metadata": {},
   "outputs": [],
   "source": [
    "{\n",
    "  'has_key': True,\n",
    "  'get': 1991,\n",
    "  'items': [('language', 'Python'), ('year', 1991), ('developer', 'Guido van Rossum')],\n",
    "  'keys': ['language', 'year', 'developer'],\n",
    "  'values': ['Python', 1991, 'Guido van Rossum'],\n",
    "  'update': {'language': 'Python', 'year': 2023},\n",
    "  'remove': {'language': 'Python', 'year': 2023}\n",
    "}"
   ]
  },
  {
   "attachments": {},
   "cell_type": "markdown",
   "metadata": {},
   "source": [
    "# Exercise: Check Prime Number\n",
    "\n",
    "Booleans in Python do not have specific methods or attributes. However, they are used in various operations like comparison and logical operations.\n",
    "\n",
    "Create a function called `is_prime` that takes an integer `n` as input and checks if the number is prime or not. A prime number is a number greater than 1 that has no divisors other than 1 and itself.\n",
    "\n",
    "Return `True` if the number is prime, otherwise return `False`."
   ]
  },
  {
   "attachments": {},
   "cell_type": "markdown",
   "metadata": {},
   "source": [
    "### Example:"
   ]
  },
  {
   "cell_type": "code",
   "execution_count": null,
   "metadata": {},
   "outputs": [],
   "source": [
    "result = is_prime(7)\n",
    "\n",
    "print(result)  # Output: True\n",
    "\n",
    "result = is_prime(4)\n",
    "\n",
    "print(result)  # Output: False"
   ]
  },
  {
   "attachments": {},
   "cell_type": "markdown",
   "metadata": {},
   "source": [
    "> Content created by **Carlos Cruz-Maldonado**.  \n",
    "> Feel free to ping me at any time."
   ]
  }
 ],
 "metadata": {
  "kernelspec": {
   "display_name": "base",
   "language": "python",
   "name": "python3"
  },
  "language_info": {
   "codemirror_mode": {
    "name": "ipython",
    "version": 3
   },
   "file_extension": ".py",
   "mimetype": "text/x-python",
   "name": "python",
   "nbconvert_exporter": "python",
   "pygments_lexer": "ipython3",
   "version": "3.9.12"
  },
  "orig_nbformat": 4
 },
 "nbformat": 4,
 "nbformat_minor": 2
}
