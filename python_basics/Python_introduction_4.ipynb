{
 "cells": [
  {
   "attachments": {},
   "cell_type": "markdown",
   "metadata": {},
   "source": [
    "# List Comprehension"
   ]
  },
  {
   "attachments": {},
   "cell_type": "markdown",
   "metadata": {},
   "source": [
    "Python Comprehensions are expressions to create new **lists**, **dictionaries**, **sets** and **generators** based on the values of existing iterables. They are an elegant way to make your code much more concise and readable in a single line of code.\n",
    "\n",
    "A Python Comprehension consists of an expression followed by a `for` clause, and optionally one or more `if` clauses. The expression is evaluated for each item in the list specified in the `for` clause, and the result is a new list containing the results of each evaluation.\n",
    "\n",
    "Here's the basic syntax:\n",
    "\n",
    "```python\n",
    " newlist = [expression for item in iterable if condition] \n",
    "```\n",
    "The return value is a new list, leaving the old list unchanged, remember the condition is optional and can act like a filter.\n",
    "\n",
    "Here's an example of a list comprehension that squares the numbers in a list:"
   ]
  },
  {
   "cell_type": "code",
   "execution_count": 1,
   "metadata": {},
   "outputs": [
    {
     "name": "stdout",
     "output_type": "stream",
     "text": [
      "[1, 4, 9, 16, 25]\n"
     ]
    }
   ],
   "source": [
    "numbers = [1, 2, 3, 4, 5]\n",
    "squared_numbers = [x**2 for x in numbers]\n",
    "print(squared_numbers)"
   ]
  },
  {
   "cell_type": "code",
   "execution_count": 2,
   "metadata": {},
   "outputs": [
    {
     "name": "stdout",
     "output_type": "stream",
     "text": [
      "[1, 4, 9, 16, 25]\n"
     ]
    }
   ],
   "source": [
    "squared_numbers_2 = []\n",
    "\n",
    "for x in numbers:\n",
    "    squared_numbers_2.append(x**2)\n",
    "    \n",
    "print(squared_numbers_2)"
   ]
  },
  {
   "cell_type": "code",
   "execution_count": 7,
   "metadata": {},
   "outputs": [
    {
     "data": {
      "text/plain": [
       "{'APRIL', 'AUGUST'}"
      ]
     },
     "execution_count": 7,
     "metadata": {},
     "output_type": "execute_result"
    }
   ],
   "source": [
    "months = [\n",
    "    'January',\n",
    "    'February',\n",
    "    'March',\n",
    "    'April',\n",
    "    'May',\n",
    "    'June',\n",
    "    'July',\n",
    "    'August',\n",
    "    'September',\n",
    "    'October',\n",
    "    'November',\n",
    "    'December',\n",
    "]\n",
    "\n",
    "new_month = {month.upper() for month in months if 'a' in month[0].lower()}\n",
    "new_month"
   ]
  },
  {
   "cell_type": "code",
   "execution_count": 9,
   "metadata": {},
   "outputs": [
    {
     "data": {
      "text/plain": [
       "{'April': 4, 'August': 8}"
      ]
     },
     "execution_count": 9,
     "metadata": {},
     "output_type": "execute_result"
    }
   ],
   "source": [
    "new_month = {month:month_no for month_no, month in enumerate(months, 1) if 'a' in month[0].lower()}\n",
    "new_month"
   ]
  },
  {
   "cell_type": "code",
   "execution_count": null,
   "metadata": {},
   "outputs": [],
   "source": [
    "new_month = {month:month_no for month_no, month in enumerate(months, 1) if 'a' in month[0].lower()}\n"
   ]
  },
  {
   "attachments": {},
   "cell_type": "markdown",
   "metadata": {},
   "source": [
    "# Optimizing in python\n",
    "\n",
    "Optimizing in Python depends specifically on the problem you want to solve, and on the features and bottlenecks of the program."
   ]
  },
  {
   "attachments": {},
   "cell_type": "markdown",
   "metadata": {},
   "source": [
    "## Generators"
   ]
  },
  {
   "attachments": {},
   "cell_type": "markdown",
   "metadata": {},
   "source": [
    "Generator functions are a special kind of function that return a lazy iterator. These are objects that you can loop over like a list. However, unlike lists, lazy iterators do not store their contents in memory. \n",
    "\n",
    "You can also define a generator expression (also called a generator comprehension), which has a very similar syntax to list comprehensions. In this way, you can use the generator without calling a function:\n",
    "```python\n",
    "csv_gen = (row for row in open(file_name))\n",
    "```"
   ]
  },
  {
   "cell_type": "code",
   "execution_count": 10,
   "metadata": {},
   "outputs": [
    {
     "name": "stdout",
     "output_type": "stream",
     "text": [
      "0\n",
      "1\n",
      "1\n",
      "2\n",
      "3\n",
      "5\n",
      "8\n",
      "13\n",
      "21\n",
      "34\n"
     ]
    }
   ],
   "source": [
    "def fibonacci_generator():\n",
    "    a, b = 0, 1\n",
    "    while True:\n",
    "        yield a\n",
    "        a, b = b, a + b\n",
    "\n",
    "# Use the generator to print the first 10 numbers in the Fibonacci sequence\n",
    "fib = fibonacci_generator()\n",
    "for i in range(10):\n",
    "    print(next(fib))"
   ]
  },
  {
   "cell_type": "code",
   "execution_count": 98,
   "metadata": {},
   "outputs": [
    {
     "data": {
      "text/plain": [
       "83621143489848422977"
      ]
     },
     "execution_count": 98,
     "metadata": {},
     "output_type": "execute_result"
    }
   ],
   "source": [
    "next(fib)"
   ]
  },
  {
   "attachments": {},
   "cell_type": "markdown",
   "metadata": {},
   "source": [
    "This is a more succinct way to create the list fibonacci_function. \n",
    "Just remember this key difference:\n",
    "\n",
    "- Using yield will result in a generator object.\n",
    "- Using return will result in a return value at each execution.\n"
   ]
  },
  {
   "attachments": {},
   "cell_type": "markdown",
   "metadata": {},
   "source": [
    "Exercise:\n",
    "\n",
    "1. Write a generator that generates the first n even numbers (where n is a positive integer passed as an argument to the generator).\n",
    "2. Modify the above generator to also generate the first n odd numbers.\n",
    "3. Use the generator to print the first 10 even and odd numbers respectively."
   ]
  },
  {
   "cell_type": "code",
   "execution_count": 106,
   "metadata": {},
   "outputs": [
    {
     "data": {
      "text/plain": [
       "False"
      ]
     },
     "execution_count": 106,
     "metadata": {},
     "output_type": "execute_result"
    }
   ],
   "source": [
    "5 % 2 == 0 # equals 0, even"
   ]
  },
  {
   "cell_type": "code",
   "execution_count": 107,
   "metadata": {},
   "outputs": [
    {
     "data": {
      "text/plain": [
       "True"
      ]
     },
     "execution_count": 107,
     "metadata": {},
     "output_type": "execute_result"
    }
   ],
   "source": [
    "5 % 2 != 0 # Not equal to 0, odd"
   ]
  },
  {
   "cell_type": "code",
   "execution_count": 100,
   "metadata": {},
   "outputs": [
    {
     "data": {
      "text/plain": [
       "2.0"
      ]
     },
     "execution_count": 100,
     "metadata": {},
     "output_type": "execute_result"
    }
   ],
   "source": [
    "4/2"
   ]
  },
  {
   "attachments": {},
   "cell_type": "markdown",
   "metadata": {},
   "source": [
    "Here's an example of using generators in a business use case scenario:\n",
    "\n",
    "Imagine you're working for a company that deals with large amounts of data and you need to process this data in an efficient manner. You need to generate a list of all the customer IDs that have made a purchase over a certain amount in a given time period."
   ]
  },
  {
   "cell_type": "code",
   "execution_count": 108,
   "metadata": {},
   "outputs": [
    {
     "name": "stdout",
     "output_type": "stream",
     "text": [
      "1\n",
      "3\n",
      "4\n",
      "6\n"
     ]
    }
   ],
   "source": [
    "def customer_id_generator(purchase_data, min_amount):\n",
    "    for customer_id, purchase_amount in purchase_data:\n",
    "        if purchase_amount >= min_amount:\n",
    "            yield customer_id\n",
    "\n",
    "# Example data\n",
    "purchase_data = [\n",
    "    (1, 200),\n",
    "    (2, 150),\n",
    "    (3, 250),\n",
    "    (4, 300),\n",
    "    (5, 175),\n",
    "    (6, 400),\n",
    "    (7, 100)\n",
    "]\n",
    "\n",
    "# Use the generator to get customer IDs for purchases over $200\n",
    "customer_ids = customer_id_generator(purchase_data, 200)\n",
    "for id in customer_ids:\n",
    "    print(id)"
   ]
  },
  {
   "cell_type": "code",
   "execution_count": 145,
   "metadata": {},
   "outputs": [
    {
     "name": "stdout",
     "output_type": "stream",
     "text": [
      "1\n",
      "3\n",
      "4\n",
      "6\n",
      "We can no longer iterate.\n"
     ]
    }
   ],
   "source": [
    "customer_ids = customer_id_generator(purchase_data, 200)\n",
    "\n",
    "for i in range(10):\n",
    "    try:\n",
    "        print(next(customer_ids))\n",
    "    except StopIteration as error:\n",
    "        print(\"We can no longer iterate.\")\n",
    "        break\n",
    "     "
   ]
  },
  {
   "attachments": {},
   "cell_type": "markdown",
   "metadata": {},
   "source": [
    "In this example, the customer_id_generator function acts as a generator that takes in the purchase data and a minimum purchase amount as arguments. It yields the customer IDs of customers who made purchases over the specified amount. This generator allows you to process the data in an efficient and memory-friendly manner, as it generates each customer ID one at a time, instead of generating the entire list at once."
   ]
  },
  {
   "attachments": {},
   "cell_type": "markdown",
   "metadata": {},
   "source": [
    "> Content created by **Carlos Cruz-Maldonado**.  \n",
    "> Feel free to ping me at any time."
   ]
  }
 ],
 "metadata": {
  "kernelspec": {
   "display_name": "Python 3.7.9 ('personal')",
   "language": "python",
   "name": "python3"
  },
  "language_info": {
   "codemirror_mode": {
    "name": "ipython",
    "version": 3
   },
   "file_extension": ".py",
   "mimetype": "text/x-python",
   "name": "python",
   "nbconvert_exporter": "python",
   "pygments_lexer": "ipython3",
   "version": "3.9.12"
  },
  "orig_nbformat": 4,
  "vscode": {
   "interpreter": {
    "hash": "252948c43895fb2cefa730c41b16e760efc56873c993d09cfc8bab107a8b51fd"
   }
  }
 },
 "nbformat": 4,
 "nbformat_minor": 2
}
