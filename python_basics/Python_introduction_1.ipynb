{
 "cells": [
  {
   "attachments": {},
   "cell_type": "markdown",
   "metadata": {},
   "source": [
    "# Main Python built-in Data Types\n",
    "\n",
    "There are different data types in Python (click on the link for more information about the data type) and [here](https://docs.python.org/3/library/stdtypes.html) for the full list:\n",
    "\n",
    "- [Numeric Type](http://thepythonguru.com/python-numbers/)  \n",
    "    - Integer \n",
    "    - Float  \n",
    "    - Complex Number  \n",
    "- [Sequence Type](https://docs.python.org/3/library/stdtypes.html#sequence-types-list-tuple-range)\n",
    "  - [List](http://thepythonguru.c\"om/python-lists/)\n",
    "  - [Tuple](http://thepythonguru.com/python-tuples/)\n",
    "  - Range\n",
    "- [Text Sequence Type](https://docs.python.org/3/library/stdtypes.html#text-sequence-type-str)\n",
    "  - [String](http://thepythonguru.com/python-strings/)\n",
    "- [Set Type](https://docs.python.org/3/library/stdtypes.html#set-types-set-frozenset)\n",
    "  - Set\n",
    "- [Mapping Type](https://docs.python.org/3/library/stdtypes.html#mapping-types-dict)\n",
    "  - [Dictionary](http://thepythonguru.com/python-dictionaries/)\n",
    "- Boolean Values\n",
    "  - Bool\n",
    "\n",
    "\n",
    "Useful type related built-in function:\n",
    "- `type()` *is used to determine the type of data type.*  [read more](https://docs.python.org/3/library/functions.html#type)\n",
    "\n",
    "\n",
    "\n",
    "To get the type of a variable, we can use the `type()` function and pass as parameter the variable we want to know.\n",
    "Example:"
   ]
  },
  {
   "attachments": {},
   "cell_type": "markdown",
   "metadata": {},
   "source": [
    "**What will happen if I execute the following block of code?**"
   ]
  },
  {
   "cell_type": "code",
   "execution_count": 1,
   "metadata": {},
   "outputs": [
    {
     "data": {
      "text/plain": [
       "str"
      ]
     },
     "execution_count": 1,
     "metadata": {},
     "output_type": "execute_result"
    }
   ],
   "source": [
    "my_dog = \"Nova\"\n",
    "type(my_dog)"
   ]
  },
  {
   "attachments": {},
   "cell_type": "markdown",
   "metadata": {},
   "source": [
    "# Type Casting\n",
    "\n",
    "Type casting, also known as type conversion, is the process of converting a value from one data type to another. In Python, you can perform type casting using built-in functions, such as int(), float(), str(), list(), tuple(), bool(), and set().\n",
    "\n",
    "Examples:"
   ]
  },
  {
   "cell_type": "code",
   "execution_count": 2,
   "metadata": {},
   "outputs": [
    {
     "data": {
      "text/plain": [
       "3"
      ]
     },
     "execution_count": 2,
     "metadata": {},
     "output_type": "execute_result"
    }
   ],
   "source": [
    "# Casting float to int\n",
    "float_number = 3.14\n",
    "int_number = int(float_number)  # Result: 3\n",
    "int_number"
   ]
  },
  {
   "cell_type": "code",
   "execution_count": 3,
   "metadata": {},
   "outputs": [
    {
     "data": {
      "text/plain": [
       "5.0"
      ]
     },
     "execution_count": 3,
     "metadata": {},
     "output_type": "execute_result"
    }
   ],
   "source": [
    "# Casting int to float\n",
    "int_number = 5\n",
    "float_number = float(int_number)  # Result: 5.0\n",
    "float_number"
   ]
  },
  {
   "cell_type": "code",
   "execution_count": 4,
   "metadata": {},
   "outputs": [
    {
     "data": {
      "text/plain": [
       "'42.0'"
      ]
     },
     "execution_count": 4,
     "metadata": {},
     "output_type": "execute_result"
    }
   ],
   "source": [
    "# Casting float to string\n",
    "float_number = 42.0\n",
    "string_number = str(float_number)\n",
    "string_number"
   ]
  },
  {
   "cell_type": "code",
   "execution_count": 6,
   "metadata": {},
   "outputs": [
    {
     "data": {
      "text/plain": [
       "42.0"
      ]
     },
     "execution_count": 6,
     "metadata": {},
     "output_type": "execute_result"
    }
   ],
   "source": [
    "float(string_number)"
   ]
  },
  {
   "cell_type": "code",
   "execution_count": 10,
   "metadata": {},
   "outputs": [
    {
     "data": {
      "text/plain": [
       "True"
      ]
     },
     "execution_count": 10,
     "metadata": {},
     "output_type": "execute_result"
    }
   ],
   "source": [
    "bool(string_number)"
   ]
  },
  {
   "cell_type": "code",
   "execution_count": null,
   "metadata": {},
   "outputs": [],
   "source": [
    "# main objects considered as False\n",
    "None\n",
    "False\n",
    "0\n",
    "0.0\n",
    "\"\"\n",
    "()\n",
    "[]\n",
    "{}\n",
    "set()\n",
    "range(0)"
   ]
  },
  {
   "attachments": {},
   "cell_type": "markdown",
   "metadata": {},
   "source": [
    "### Question: What will happen if we cast string to `list`, `tuple` or `set`?"
   ]
  },
  {
   "attachments": {},
   "cell_type": "markdown",
   "metadata": {},
   "source": [
    "# Type Mutability\n",
    "\n",
    "Mutability refers to the ability of an object to change its state or content after it has been created.  \n",
    "\n",
    "- **Mutable objects**: These are objects whose content or state can be changed after they are created. Examples include **lists**, **sets**, and **dictionaries**. \n",
    "\n",
    "- **Immutable objects**: These are objects whose content or state cannot be changed after they are created. Examples include **integers**, **floats**, **strings**, **booleans**, **tuples**, and **frozen sets**."
   ]
  },
  {
   "attachments": {},
   "cell_type": "markdown",
   "metadata": {},
   "source": [
    "# Strings -> `str` or \"\" or '' or \"\"\"\"\"\"\n",
    "**Strings are sequences of characters. In Python, strings are immutable.** \n",
    " \n",
    "The object (data type) string is very important for data analysis. It has a number of important and very useful methods for string processing and parsing, and there is a package (called re) for string support for <a href= http://www.rexegg.com/regex-quickstart.html>regular expressions</a>  \n",
    "\n",
    "Some common String object methods:\n",
    "\n",
    "`len(string)`: Returns the length of the string.  \n",
    "`string.upper()`: Returns a new string with all characters in uppercase.  \n",
    "`string.lower()`: Returns a new string with all characters in lowercase.  \n",
    "`string.replace(old, new)`: Returns a new string with all occurrences of old replaced with new.  \n",
    "`string.split(sep)`: Returns a list of substrings separated by the specified separator sep. If no separator is provided, it splits on whitespace.  "
   ]
  },
  {
   "cell_type": "code",
   "execution_count": 17,
   "metadata": {},
   "outputs": [],
   "source": [
    "test_string = \"Carlos Python session is fun\"# Define a test string"
   ]
  },
  {
   "cell_type": "code",
   "execution_count": 18,
   "metadata": {},
   "outputs": [
    {
     "data": {
      "text/plain": [
       "28"
      ]
     },
     "execution_count": 18,
     "metadata": {},
     "output_type": "execute_result"
    }
   ],
   "source": [
    "len(test_string)"
   ]
  },
  {
   "cell_type": "code",
   "execution_count": 19,
   "metadata": {},
   "outputs": [
    {
     "data": {
      "text/plain": [
       "'CARLOS PYTHON SESSION IS FUN'"
      ]
     },
     "execution_count": 19,
     "metadata": {},
     "output_type": "execute_result"
    }
   ],
   "source": [
    "test_string.upper()"
   ]
  },
  {
   "cell_type": "code",
   "execution_count": 20,
   "metadata": {},
   "outputs": [
    {
     "data": {
      "text/plain": [
       "'carlos python session is fun'"
      ]
     },
     "execution_count": 20,
     "metadata": {},
     "output_type": "execute_result"
    }
   ],
   "source": [
    "test_string.lower()"
   ]
  },
  {
   "cell_type": "code",
   "execution_count": 24,
   "metadata": {},
   "outputs": [
    {
     "data": {
      "text/plain": [
       "'Carlos_Python_session_is_fun'"
      ]
     },
     "execution_count": 24,
     "metadata": {},
     "output_type": "execute_result"
    }
   ],
   "source": [
    "string_underscore = test_string.replace(' ', '_')\n",
    "string_underscore"
   ]
  },
  {
   "cell_type": "code",
   "execution_count": 22,
   "metadata": {},
   "outputs": [
    {
     "data": {
      "text/plain": [
       "'Carlos Python session is fun'"
      ]
     },
     "execution_count": 22,
     "metadata": {},
     "output_type": "execute_result"
    }
   ],
   "source": [
    "test_string.replace('X', '_') # if substring is not present then returns the same string"
   ]
  },
  {
   "cell_type": "code",
   "execution_count": 23,
   "metadata": {},
   "outputs": [
    {
     "data": {
      "text/plain": [
       "['Carlos', 'Python', 'session', 'is', 'fun']"
      ]
     },
     "execution_count": 23,
     "metadata": {},
     "output_type": "execute_result"
    }
   ],
   "source": [
    "test_string.split()"
   ]
  },
  {
   "cell_type": "code",
   "execution_count": 25,
   "metadata": {},
   "outputs": [
    {
     "data": {
      "text/plain": [
       "['Carlos', 'Python', 'session', 'is', 'fun']"
      ]
     },
     "execution_count": 25,
     "metadata": {},
     "output_type": "execute_result"
    }
   ],
   "source": [
    "string_underscore.split('_')"
   ]
  },
  {
   "attachments": {},
   "cell_type": "markdown",
   "metadata": {},
   "source": [
    "# Lists -> `list` or `[]`\n",
    "\n",
    "**Lists are ordered, mutable sequences of elements.**  \n",
    "\n",
    "`len(list)`: Returns the length of the list.  \n",
    "`list.append(item)`: Adds an item to the end of the list.  \n",
    "`list.extend(iterable)`: Appends the elements of an iterable (e.g., list, tuple, string) to the list.  \n",
    "`list.insert(index, item)`: Inserts an item at the specified index.  \n",
    "`list.remove(item)`: Removes the first occurrence of the specified item from the list.  \n",
    "`list.pop(index)`: Removes and returns the item at the specified index. If no index is provided, it removes and returns the last item in the list.  "
   ]
  },
  {
   "cell_type": "code",
   "execution_count": 71,
   "metadata": {},
   "outputs": [],
   "source": [
    "list1 = [1,2,3,4,5,6,7,8,9]"
   ]
  },
  {
   "cell_type": "code",
   "execution_count": 72,
   "metadata": {},
   "outputs": [
    {
     "data": {
      "text/plain": [
       "9"
      ]
     },
     "execution_count": 72,
     "metadata": {},
     "output_type": "execute_result"
    }
   ],
   "source": [
    "len(list1)"
   ]
  },
  {
   "cell_type": "code",
   "execution_count": 73,
   "metadata": {},
   "outputs": [
    {
     "data": {
      "text/plain": [
       "[1, 2, 3, 4, 5, 6, 7, 8, 9, 'ten']"
      ]
     },
     "execution_count": 73,
     "metadata": {},
     "output_type": "execute_result"
    }
   ],
   "source": [
    "list1.append(\"ten\")\n",
    "list1"
   ]
  },
  {
   "cell_type": "code",
   "execution_count": 74,
   "metadata": {},
   "outputs": [
    {
     "data": {
      "text/plain": [
       "[1, 2, 3, 4, 5, 6, 7, 8, 9, 'ten', 'e', 'l', 'e', 'v', 'e', 'n']"
      ]
     },
     "execution_count": 74,
     "metadata": {},
     "output_type": "execute_result"
    }
   ],
   "source": [
    "list1.extend(\"eleven\")\n",
    "list1"
   ]
  },
  {
   "cell_type": "code",
   "execution_count": 75,
   "metadata": {},
   "outputs": [
    {
     "data": {
      "text/plain": [
       "[1, 2, 3, 4, 5, 6, 7, 8, 9, 'ten', 'e', 'l', 'e', 'v', 'e', 'n', 11]"
      ]
     },
     "execution_count": 75,
     "metadata": {},
     "output_type": "execute_result"
    }
   ],
   "source": [
    "list1.extend([11])\n",
    "list1"
   ]
  },
  {
   "cell_type": "code",
   "execution_count": 76,
   "metadata": {},
   "outputs": [
    {
     "data": {
      "text/plain": [
       "[1, 2, 3, 4, 5, 6, 7, 8, 9, 'ten', '10', 'e', 'l', 'e', 'v', 'e', 'n', 11]"
      ]
     },
     "execution_count": 76,
     "metadata": {},
     "output_type": "execute_result"
    }
   ],
   "source": [
    "list1.insert(10, '10')\n",
    "list1"
   ]
  },
  {
   "cell_type": "code",
   "execution_count": 77,
   "metadata": {},
   "outputs": [
    {
     "data": {
      "text/plain": [
       "[1, 2, 3, 4, 5, 6, 7, 8, 9, 'ten', '10', 'l', 'e', 'v', 'e', 'n', 11]"
      ]
     },
     "execution_count": 77,
     "metadata": {},
     "output_type": "execute_result"
    }
   ],
   "source": [
    "list1.remove(\"e\")\n",
    "list1"
   ]
  },
  {
   "cell_type": "code",
   "execution_count": 78,
   "metadata": {},
   "outputs": [
    {
     "data": {
      "text/plain": [
       "'10'"
      ]
     },
     "execution_count": 78,
     "metadata": {},
     "output_type": "execute_result"
    }
   ],
   "source": [
    "list1.pop(10)"
   ]
  },
  {
   "cell_type": "code",
   "execution_count": 79,
   "metadata": {},
   "outputs": [
    {
     "data": {
      "text/plain": [
       "11"
      ]
     },
     "execution_count": 79,
     "metadata": {},
     "output_type": "execute_result"
    }
   ],
   "source": [
    "variable1 = list1.pop()\n",
    "variable1"
   ]
  },
  {
   "cell_type": "code",
   "execution_count": 80,
   "metadata": {},
   "outputs": [
    {
     "data": {
      "text/plain": [
       "[1, 2, 3, 4, 5, 6, 7, 8, 9, 'ten', 'l', 'e', 'v', 'e', 'n']"
      ]
     },
     "execution_count": 80,
     "metadata": {},
     "output_type": "execute_result"
    }
   ],
   "source": [
    "list1"
   ]
  },
  {
   "attachments": {},
   "cell_type": "markdown",
   "metadata": {},
   "source": [
    "# Tuples -> `tuple` or `()`\n",
    "**Tuples are ordered, immutable sequences of elements.**  \n",
    "\n",
    "Tuples are relationships between two or more objects (like lists) however, once created, tuples cannot be modified, i.e. adding, deleting, etc. is not allowed. They can be useful when reading data and preserving their characteristics. \n",
    "\n",
    "`len(tuple)`: Returns the length of the tuple.  \n",
    "`tuple.index(item)`: Returns the index of the first occurrence of the specified item in the tuple. Raises a ValueError if the item is not found.  "
   ]
  },
  {
   "cell_type": "code",
   "execution_count": 82,
   "metadata": {},
   "outputs": [],
   "source": [
    "# Convert a list to a tuple and explore its methods\n",
    "# Try to apply the list methods to the tuple and explain\n",
    "tuple1 = tuple(list1)"
   ]
  },
  {
   "cell_type": "code",
   "execution_count": 83,
   "metadata": {},
   "outputs": [
    {
     "data": {
      "text/plain": [
       "(1, 2, 3, 4, 5, 6, 7, 8, 9, 'ten', 'l', 'e', 'v', 'e', 'n')"
      ]
     },
     "execution_count": 83,
     "metadata": {},
     "output_type": "execute_result"
    }
   ],
   "source": [
    "tuple1"
   ]
  },
  {
   "cell_type": "code",
   "execution_count": 84,
   "metadata": {},
   "outputs": [
    {
     "data": {
      "text/plain": [
       "1"
      ]
     },
     "execution_count": 84,
     "metadata": {},
     "output_type": "execute_result"
    }
   ],
   "source": [
    "tuple1.index(2)"
   ]
  },
  {
   "cell_type": "code",
   "execution_count": 85,
   "metadata": {},
   "outputs": [
    {
     "data": {
      "text/plain": [
       "2"
      ]
     },
     "execution_count": 85,
     "metadata": {},
     "output_type": "execute_result"
    }
   ],
   "source": [
    "tuple1.count('e')"
   ]
  },
  {
   "cell_type": "code",
   "execution_count": 87,
   "metadata": {},
   "outputs": [
    {
     "data": {
      "text/plain": [
       "3"
      ]
     },
     "execution_count": 87,
     "metadata": {},
     "output_type": "execute_result"
    }
   ],
   "source": [
    "\"eleven\".count('e')"
   ]
  },
  {
   "attachments": {},
   "cell_type": "markdown",
   "metadata": {},
   "source": [
    "# Sets -> `set`  \n",
    "**Sets are unordered collections of unique elements.**  \n",
    "\n",
    "`len(set)`: Returns the number of elements in the set.  \n",
    "`set.add(item)`: Adds an item to the set.  \n",
    "`set.remove(item)`: Removes the specified item from the set. Raises a KeyError if the item is not found.  \n",
    "`set.discard(item)`: Removes the specified item from the set if it is present.  \n",
    "`set.union(set2)`: Returns a new set containing all items from both sets.  \n",
    "`set.intersection(set2)`: Returns a new set containing items present in both sets.  \n"
   ]
  },
  {
   "cell_type": "code",
   "execution_count": 88,
   "metadata": {},
   "outputs": [
    {
     "data": {
      "text/plain": [
       "{1, 2, 3, 4, 5, 6, 7, 8, 9, 'e', 'l', 'n', 'ten', 'v'}"
      ]
     },
     "execution_count": 88,
     "metadata": {},
     "output_type": "execute_result"
    }
   ],
   "source": [
    "set1 = set(tuple1)\n",
    "set1"
   ]
  },
  {
   "cell_type": "code",
   "execution_count": 93,
   "metadata": {},
   "outputs": [
    {
     "name": "stdout",
     "output_type": "stream",
     "text": [
      "310 ns ± 47.9 ns per loop (mean ± std. dev. of 7 runs, 1,000,000 loops each)\n"
     ]
    }
   ],
   "source": [
    "%timeit 10 in list1"
   ]
  },
  {
   "cell_type": "code",
   "execution_count": 92,
   "metadata": {},
   "outputs": [
    {
     "name": "stdout",
     "output_type": "stream",
     "text": [
      "49.4 ns ± 5.21 ns per loop (mean ± std. dev. of 7 runs, 10,000,000 loops each)\n"
     ]
    }
   ],
   "source": [
    "%timeit 10 in set1 # Faster to retrieve a value from a set datatype"
   ]
  },
  {
   "cell_type": "code",
   "execution_count": 94,
   "metadata": {},
   "outputs": [
    {
     "name": "stdout",
     "output_type": "stream",
     "text": [
      "257 ns ± 43.5 ns per loop (mean ± std. dev. of 7 runs, 1,000,000 loops each)\n"
     ]
    }
   ],
   "source": [
    "%timeit 10 in tuple1"
   ]
  },
  {
   "cell_type": "code",
   "execution_count": 95,
   "metadata": {},
   "outputs": [
    {
     "ename": "KeyError",
     "evalue": "10",
     "output_type": "error",
     "traceback": [
      "\u001b[1;31m---------------------------------------------------------------------------\u001b[0m",
      "\u001b[1;31mKeyError\u001b[0m                                  Traceback (most recent call last)",
      "\u001b[1;32mc:\\Users\\2000076134\\OneDrive - Hexaware Technologies\\Documents\\GitHub\\PythonTraining_Hexavarsity_05_2023\\python_basics\\Python_introduction_1.ipynb Cell 44\u001b[0m in \u001b[0;36m<cell line: 1>\u001b[1;34m()\u001b[0m\n\u001b[1;32m----> <a href='vscode-notebook-cell:/c%3A/Users/2000076134/OneDrive%20-%20Hexaware%20Technologies/Documents/GitHub/PythonTraining_Hexavarsity_05_2023/python_basics/Python_introduction_1.ipynb#Y103sZmlsZQ%3D%3D?line=0'>1</a>\u001b[0m set1\u001b[39m.\u001b[39;49mremove(\u001b[39m10\u001b[39;49m)\n",
      "\u001b[1;31mKeyError\u001b[0m: 10"
     ]
    }
   ],
   "source": [
    "set1.remove(10)"
   ]
  },
  {
   "cell_type": "code",
   "execution_count": 96,
   "metadata": {},
   "outputs": [],
   "source": [
    "set1.discard(10)"
   ]
  },
  {
   "cell_type": "code",
   "execution_count": 97,
   "metadata": {},
   "outputs": [],
   "source": [
    "set2 = {10,11,2,3,4}"
   ]
  },
  {
   "cell_type": "code",
   "execution_count": 98,
   "metadata": {},
   "outputs": [
    {
     "data": {
      "text/plain": [
       "{1, 10, 11, 2, 3, 4, 5, 6, 7, 8, 9, 'e', 'l', 'n', 'ten', 'v'}"
      ]
     },
     "execution_count": 98,
     "metadata": {},
     "output_type": "execute_result"
    }
   ],
   "source": [
    "set1.union(set2)"
   ]
  },
  {
   "cell_type": "code",
   "execution_count": 99,
   "metadata": {},
   "outputs": [
    {
     "data": {
      "text/plain": [
       "{2, 3, 4}"
      ]
     },
     "execution_count": 99,
     "metadata": {},
     "output_type": "execute_result"
    }
   ],
   "source": [
    "set1.intersection(set2)"
   ]
  },
  {
   "cell_type": "code",
   "execution_count": 100,
   "metadata": {},
   "outputs": [
    {
     "data": {
      "text/plain": [
       "{1, 5, 6, 7, 8, 9, 'e', 'l', 'n', 'ten', 'v'}"
      ]
     },
     "execution_count": 100,
     "metadata": {},
     "output_type": "execute_result"
    }
   ],
   "source": [
    "set1.difference(set2)"
   ]
  },
  {
   "attachments": {},
   "cell_type": "markdown",
   "metadata": {},
   "source": [
    "# Dictionaries -> `dict` or `{}`\n",
    "\n",
    "**Dictionaries are unordered collections of key-value pairs.**  \n",
    "\n",
    "Dictionaries are the hashes in python. They are also objects and allow to store a key-value relationship, as you know the keys in a dictionary or hash must be unique, while the values can be repeated. The flexibility of dictionaries in python allows to have dictionaries that *point* to other data structures such as tuples, lists and even other dictionaries.\n",
    "\n",
    "Note, although it may sometimes appear that the .keys() and .values() methods of a dictionary retain some order and even correspond to each other, simply calling them does not ensure that element 'n' of one is equivalent to element 'n' of the other. \n",
    "\n",
    "`len(dict)`: Returns the number of key-value pairs in the dictionary.  \n",
    "`dict.keys()`: Returns a view object displaying a list of all keys in the dictionary.  \n",
    "`dict.values()`: Returns a view object displaying a list of all values in the dictionary.  \n",
    "`dict.items()`: Returns a view object displaying a list of all key-value pairs in the dictionary as tuples.  \n",
    "`dict.get(key, default)`: Returns the value associated with the specified key. If the key is not found, it returns the default value (or None if no default value is provided).  \n",
    "`dict.update(dict2)`: Updates the dictionary with the key-value pairs from another dictionary, overwriting existing keys with new values.  \n",
    "`dict.pop(key, default)`: Removes and returns the value associated with the specified key. If the key is not found, it returns the default value (or raises a KeyError if no default value is provided).  "
   ]
  },
  {
   "cell_type": "code",
   "execution_count": null,
   "metadata": {},
   "outputs": [],
   "source": [
    "{<key>:<value>, [...]}"
   ]
  },
  {
   "cell_type": "code",
   "execution_count": 101,
   "metadata": {},
   "outputs": [],
   "source": [
    "dict1 = {\"one\":1, \"two\":2, \"three\":3}"
   ]
  },
  {
   "cell_type": "code",
   "execution_count": 103,
   "metadata": {},
   "outputs": [
    {
     "data": {
      "text/plain": [
       "dict_keys(['one', 'two', 'three'])"
      ]
     },
     "execution_count": 103,
     "metadata": {},
     "output_type": "execute_result"
    }
   ],
   "source": [
    "dict1.keys()"
   ]
  },
  {
   "cell_type": "code",
   "execution_count": 104,
   "metadata": {},
   "outputs": [
    {
     "data": {
      "text/plain": [
       "dict_values([1, 2, 3])"
      ]
     },
     "execution_count": 104,
     "metadata": {},
     "output_type": "execute_result"
    }
   ],
   "source": [
    "dict1.values()"
   ]
  },
  {
   "cell_type": "code",
   "execution_count": 105,
   "metadata": {},
   "outputs": [
    {
     "data": {
      "text/plain": [
       "dict_items([('one', 1), ('two', 2), ('three', 3)])"
      ]
     },
     "execution_count": 105,
     "metadata": {},
     "output_type": "execute_result"
    }
   ],
   "source": [
    "dict1.items()"
   ]
  },
  {
   "cell_type": "code",
   "execution_count": 106,
   "metadata": {},
   "outputs": [
    {
     "data": {
      "text/plain": [
       "True"
      ]
     },
     "execution_count": 106,
     "metadata": {},
     "output_type": "execute_result"
    }
   ],
   "source": [
    "\"one\" in dict1"
   ]
  },
  {
   "cell_type": "code",
   "execution_count": 107,
   "metadata": {},
   "outputs": [
    {
     "data": {
      "text/plain": [
       "1"
      ]
     },
     "execution_count": 107,
     "metadata": {},
     "output_type": "execute_result"
    }
   ],
   "source": [
    "dict1.get(\"one\")"
   ]
  },
  {
   "cell_type": "code",
   "execution_count": 109,
   "metadata": {},
   "outputs": [
    {
     "data": {
      "text/plain": [
       "'Not found'"
      ]
     },
     "execution_count": 109,
     "metadata": {},
     "output_type": "execute_result"
    }
   ],
   "source": [
    "dict1.get(\"ten\", \"Not found\")"
   ]
  },
  {
   "cell_type": "code",
   "execution_count": 110,
   "metadata": {},
   "outputs": [
    {
     "data": {
      "text/plain": [
       "{'one': 1, 'two': 2, 'three': 3}"
      ]
     },
     "execution_count": 110,
     "metadata": {},
     "output_type": "execute_result"
    }
   ],
   "source": [
    "dict1"
   ]
  },
  {
   "cell_type": "code",
   "execution_count": 111,
   "metadata": {},
   "outputs": [],
   "source": [
    "dict1.update({\"ten\": \"10\", \"one\":\"uno\"})"
   ]
  },
  {
   "cell_type": "code",
   "execution_count": 112,
   "metadata": {},
   "outputs": [
    {
     "data": {
      "text/plain": [
       "{'one': 'uno', 'two': 2, 'three': 3, 'ten': '10'}"
      ]
     },
     "execution_count": 112,
     "metadata": {},
     "output_type": "execute_result"
    }
   ],
   "source": [
    "dict1"
   ]
  },
  {
   "attachments": {},
   "cell_type": "markdown",
   "metadata": {},
   "source": [
    "## Slicing\n",
    "```python\n",
    "#example & syntax:\n",
    "\n",
    "list_to_slice[start:end:steps]\n",
    "\n",
    "```"
   ]
  },
  {
   "cell_type": "code",
   "execution_count": 114,
   "metadata": {},
   "outputs": [
    {
     "data": {
      "text/plain": [
       "[1, 2, 3, 4, 5, 6, 7, 8]"
      ]
     },
     "execution_count": 114,
     "metadata": {},
     "output_type": "execute_result"
    }
   ],
   "source": [
    "list1[0:8] # exclusive slice"
   ]
  },
  {
   "cell_type": "code",
   "execution_count": 120,
   "metadata": {},
   "outputs": [
    {
     "data": {
      "text/plain": [
       "[2, 4, 6, 8]"
      ]
     },
     "execution_count": 120,
     "metadata": {},
     "output_type": "execute_result"
    }
   ],
   "source": [
    "list1[0:8:2] # exclusive slice"
   ]
  },
  {
   "cell_type": "code",
   "execution_count": 115,
   "metadata": {},
   "outputs": [
    {
     "data": {
      "text/plain": [
       "[1, 2, 3, 4, 5, 6, 7, 8, 9]"
      ]
     },
     "execution_count": 115,
     "metadata": {},
     "output_type": "execute_result"
    }
   ],
   "source": [
    "list1[0:8 + 1] # inclusive slice"
   ]
  },
  {
   "cell_type": "code",
   "execution_count": 122,
   "metadata": {},
   "outputs": [
    {
     "data": {
      "text/plain": [
       "['n', 'e', 'v', 'e', 'l', 'ten', 9, 8, 7, 6, 5, 4, 3, 2, 1]"
      ]
     },
     "execution_count": 122,
     "metadata": {},
     "output_type": "execute_result"
    }
   ],
   "source": [
    "list1[::-1] # reversed list"
   ]
  },
  {
   "attachments": {},
   "cell_type": "markdown",
   "metadata": {},
   "source": [
    "# Retrieve elements\n",
    "\n",
    "```python\n",
    "# Main syntax\n",
    "list[index]\n",
    "\n",
    "```"
   ]
  },
  {
   "cell_type": "code",
   "execution_count": 125,
   "metadata": {},
   "outputs": [
    {
     "ename": "IndexError",
     "evalue": "list index out of range",
     "output_type": "error",
     "traceback": [
      "\u001b[1;31m---------------------------------------------------------------------------\u001b[0m",
      "\u001b[1;31mIndexError\u001b[0m                                Traceback (most recent call last)",
      "\u001b[1;32mc:\\Users\\2000076134\\OneDrive - Hexaware Technologies\\Documents\\GitHub\\PythonTraining_Hexavarsity_05_2023\\python_basics\\Python_introduction_1.ipynb Cell 68\u001b[0m in \u001b[0;36m<cell line: 1>\u001b[1;34m()\u001b[0m\n\u001b[1;32m----> <a href='vscode-notebook-cell:/c%3A/Users/2000076134/OneDrive%20-%20Hexaware%20Technologies/Documents/GitHub/PythonTraining_Hexavarsity_05_2023/python_basics/Python_introduction_1.ipynb#Y135sZmlsZQ%3D%3D?line=0'>1</a>\u001b[0m list1[\u001b[39m20\u001b[39;49m]\n",
      "\u001b[1;31mIndexError\u001b[0m: list index out of range"
     ]
    }
   ],
   "source": [
    "list1[20] # beyond the length of the lisr"
   ]
  },
  {
   "cell_type": "code",
   "execution_count": 129,
   "metadata": {},
   "outputs": [
    {
     "data": {
      "text/plain": [
       "'n'"
      ]
     },
     "execution_count": 129,
     "metadata": {},
     "output_type": "execute_result"
    }
   ],
   "source": [
    "list1[-1] # last element of the list"
   ]
  },
  {
   "attachments": {},
   "cell_type": "markdown",
   "metadata": {},
   "source": [
    "> Content created by **Carlos Cruz-Maldonado**.  \n",
    "> Feel free to ping me at any time."
   ]
  },
  {
   "attachments": {},
   "cell_type": "markdown",
   "metadata": {},
   "source": [
    "# Exercises"
   ]
  },
  {
   "cell_type": "code",
   "execution_count": 130,
   "metadata": {},
   "outputs": [
    {
     "data": {
      "text/plain": [
       "True"
      ]
     },
     "execution_count": 130,
     "metadata": {},
     "output_type": "execute_result"
    }
   ],
   "source": [
    "True"
   ]
  },
  {
   "cell_type": "code",
   "execution_count": 132,
   "metadata": {},
   "outputs": [
    {
     "data": {
      "text/plain": [
       "False"
      ]
     },
     "execution_count": 132,
     "metadata": {},
     "output_type": "execute_result"
    }
   ],
   "source": [
    "False"
   ]
  },
  {
   "attachments": {},
   "cell_type": "markdown",
   "metadata": {},
   "source": [
    "### Data Types:  \n",
    "    a. Declare variables with different data types (integer, float, string, boolean) and print their values  \n",
    "    b. Convert between data types (e.g. convert a string to an integer, or a float to a string)  \n",
    "    c. Use basic mathematical operations on different data types (e.g. addition, subtraction, multiplication, division)  \n",
    "\n",
    "### Mutability and immutability of Python data types:  \n",
    "    a. Create a string, a list, a dictionary, and a tuple. Assign each one to a different variable.  \n",
    "    b. Try to modify the value of the string, the list, the dictionary, and the tuple. What happens and why?  \n",
    "    c. Create a new string, list, dictionary, and tuple that are equal to the original ones. Modify the new ones and compare the original and new variables. What happened and why?  \n",
    "    d. Create a new string and assign it to a variable. Concatenate the string with another string and assign the result to a new variable.    \n",
    "\n",
    "### Create a string that contains a quote and use string methods to:  \n",
    "    a. Convert the string to uppercase and assign it to a new variable  \n",
    "    b. Replace a word in the string with another word and assign it to a new variable  \n",
    "    c. Count the number of times a specific character appears in the string  \n",
    "    d. Split the string into a list of words and assign it to a new variable  \n",
    "\n",
    "### Create a list of numbers and use list methods to:  \n",
    "    a. Append a new number to the end of the list  \n",
    "    b. Insert a new number at a specific index  \n",
    "    c. Remove an element from the list using its value  \n",
    "    d. Sort the list in ascending or descending order  \n",
    "\n",
    "### Create a dictionary that represents a person's information and use dictionary methods to:  \n",
    "    a. Add a new key-value pair to the dictionary  \n",
    "    b. Remove a key-value pair from the dictionary  \n",
    "    c. Get the value of a specific key and assign it to a new variable  \n",
    "    d. Check if a key exists in the dictionary  \n",
    "\n",
    "### Create a tuple of strings and use tuple methods to:  \n",
    "    a. Concatenate two tuples and assign it to a new variable  \n",
    "    b. Repeat the tuple a certain number of times and assign it to a new variable  \n",
    "    c. Find the index of a specific element in the tuple  \n",
    "    d. Check if a specific element is present in the tuple  "
   ]
  }
 ],
 "metadata": {
  "kernelspec": {
   "display_name": "Python 3.7.9 ('personal')",
   "language": "python",
   "name": "python3"
  },
  "language_info": {
   "codemirror_mode": {
    "name": "ipython",
    "version": 3
   },
   "file_extension": ".py",
   "mimetype": "text/x-python",
   "name": "python",
   "nbconvert_exporter": "python",
   "pygments_lexer": "ipython3",
   "version": "3.9.12"
  },
  "orig_nbformat": 4,
  "vscode": {
   "interpreter": {
    "hash": "252948c43895fb2cefa730c41b16e760efc56873c993d09cfc8bab107a8b51fd"
   }
  }
 },
 "nbformat": 4,
 "nbformat_minor": 2
}
