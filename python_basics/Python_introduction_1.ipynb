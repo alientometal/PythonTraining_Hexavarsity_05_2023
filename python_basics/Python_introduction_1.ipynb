{
 "cells": [
  {
   "attachments": {},
   "cell_type": "markdown",
   "metadata": {},
   "source": [
    "# Main Python built-in Data Types\n",
    "\n",
    "There are different data types in Python (click on the link for more information about the data type) and [here](https://docs.python.org/3/library/stdtypes.html) for the full list:\n",
    "\n",
    "- [Numeric Type](http://thepythonguru.com/python-numbers/)  \n",
    "    - Integer \n",
    "    - Float  \n",
    "    - Complex Number  \n",
    "- [Sequence Type](https://docs.python.org/3/library/stdtypes.html#sequence-types-list-tuple-range)\n",
    "  - [List](http://thepythonguru.c\"om/python-lists/)\n",
    "  - [Tuple](http://thepythonguru.com/python-tuples/)\n",
    "  - Range\n",
    "- [Text Sequence Type](https://docs.python.org/3/library/stdtypes.html#text-sequence-type-str)\n",
    "  - [String](http://thepythonguru.com/python-strings/)\n",
    "- [Set Type](https://docs.python.org/3/library/stdtypes.html#set-types-set-frozenset)\n",
    "  - Set\n",
    "- [Mapping Type](https://docs.python.org/3/library/stdtypes.html#mapping-types-dict)\n",
    "  - [Dictionary](http://thepythonguru.com/python-dictionaries/)\n",
    "- Boolean Values\n",
    "  - Bool\n",
    "\n",
    "\n",
    "Useful type related built-in function:\n",
    "- `type()` *is used to determine the type of data type.*  [read more](https://docs.python.org/3/library/functions.html#type)\n",
    "\n",
    "\n",
    "\n",
    "To get the type of a variable, we can use the `type()` function and pass as parameter the variable we want to know.\n",
    "Example:"
   ]
  },
  {
   "attachments": {},
   "cell_type": "markdown",
   "metadata": {},
   "source": [
    "**What will happen if I execute the following block of code?**"
   ]
  },
  {
   "cell_type": "code",
   "execution_count": null,
   "metadata": {},
   "outputs": [],
   "source": [
    "my_dog = \"Nova\"\n",
    "type(my_dog)"
   ]
  },
  {
   "attachments": {},
   "cell_type": "markdown",
   "metadata": {},
   "source": [
    "# Type Casting\n",
    "\n",
    "Type casting, also known as type conversion, is the process of converting a value from one data type to another. In Python, you can perform type casting using built-in functions, such as int(), float(), str(), list(), tuple(), and set().\n",
    "\n",
    "Examples:"
   ]
  },
  {
   "cell_type": "code",
   "execution_count": null,
   "metadata": {},
   "outputs": [],
   "source": [
    "# Casting float to int\n",
    "float_number = 3.14\n",
    "int_number = int(float_number)  # Result: 3"
   ]
  },
  {
   "cell_type": "code",
   "execution_count": null,
   "metadata": {},
   "outputs": [],
   "source": [
    "# Casting int to float\n",
    "int_number = 5\n",
    "float_number = float(int_number)  # Result: 5.0"
   ]
  },
  {
   "cell_type": "code",
   "execution_count": 8,
   "metadata": {},
   "outputs": [],
   "source": [
    "# Casting float to string\n",
    "float_number = 42.0\n",
    "string_number = str(float_number)"
   ]
  },
  {
   "attachments": {},
   "cell_type": "markdown",
   "metadata": {},
   "source": [
    "### Question: What will happen if we cast string to `list`, `tuple` or `set`?"
   ]
  },
  {
   "attachments": {},
   "cell_type": "markdown",
   "metadata": {},
   "source": [
    "# Type Mutability\n",
    "\n",
    "Mutability refers to the ability of an object to change its state or content after it has been created.  \n",
    "\n",
    "- **Mutable objects**: These are objects whose content or state can be changed after they are created. Examples include **lists**, **sets**, and **dictionaries**. \n",
    "\n",
    "- **Immutable objects**: These are objects whose content or state cannot be changed after they are created. Examples include **integers**, **floats**, **strings**, **booleans**, **tuples**, and **frozen sets**."
   ]
  },
  {
   "attachments": {},
   "cell_type": "markdown",
   "metadata": {},
   "source": [
    "# Strings -> `str`  \n",
    "**Strings are sequences of characters. In Python, strings are immutable.** \n",
    " \n",
    "The object (data type) string is very important for data analysis. It has a number of important and very useful methods for string processing and parsing, and there is a package (called re) for string support for <a href= http://www.rexegg.com/regex-quickstart.html>regular expressions</a>  \n",
    "\n",
    "Some common String object methods:\n",
    "\n",
    "`len(string)`: Returns the length of the string.  \n",
    "`string.upper()`: Returns a new string with all characters in uppercase.  \n",
    "`string.lower()`: Returns a new string with all characters in lowercase.  \n",
    "`string.replace(old, new)`: Returns a new string with all occurrences of old replaced with new.  \n",
    "`string.split(sep)`: Returns a list of substrings separated by the specified separator sep. If no separator is provided, it splits on whitespace.  "
   ]
  },
  {
   "cell_type": "code",
   "execution_count": null,
   "metadata": {},
   "outputs": [],
   "source": [
    "test_string = # Define a test string"
   ]
  },
  {
   "attachments": {},
   "cell_type": "markdown",
   "metadata": {},
   "source": [
    "# Lists -> `list` or `[]`\n",
    "\n",
    "**Lists are ordered, mutable sequences of elements.**  \n",
    "\n",
    "`len(list)`: Returns the length of the list.  \n",
    "`list.append(item)`: Adds an item to the end of the list.  \n",
    "`list.extend(iterable)`: Appends the elements of an iterable (e.g., list, tuple, string) to the list.  \n",
    "`list.insert(index, item)`: Inserts an item at the specified index.  \n",
    "`list.remove(item)`: Removes the first occurrence of the specified item from the list.  \n",
    "`list.pop(index)`: Removes and returns the item at the specified index. If no index is provided, it removes and returns the last item in the list.  "
   ]
  },
  {
   "attachments": {},
   "cell_type": "markdown",
   "metadata": {},
   "source": [
    "# Tuples -> `tuple` or `()`\n",
    "**Tuples are ordered, immutable sequences of elements.**  \n",
    "\n",
    "Tuples are relationships between two or more objects (like lists) however, once created, tuples cannot be modified, i.e. adding, deleting, etc. is not allowed. They can be useful when reading data and preserving their characteristics. \n",
    "\n",
    "`len(tuple)`: Returns the length of the tuple.  \n",
    "`tuple.index(item)`: Returns the index of the first occurrence of the specified item in the tuple. Raises a ValueError if the item is not found.  "
   ]
  },
  {
   "cell_type": "code",
   "execution_count": null,
   "metadata": {},
   "outputs": [],
   "source": [
    "# Convert a list to a tuple and explore its methods\n",
    "# Try to apply the list methods to the tuple and explain"
   ]
  },
  {
   "attachments": {},
   "cell_type": "markdown",
   "metadata": {},
   "source": [
    "# Sets -> `set`  \n",
    "**Sets are unordered collections of unique elements.**  \n",
    "\n",
    "`len(set)`: Returns the number of elements in the set.  \n",
    "`set.add(item)`: Adds an item to the set.  \n",
    "`set.remove(item)`: Removes the specified item from the set. Raises a KeyError if the item is not found.  \n",
    "`set.discard(item)`: Removes the specified item from the set if it is present.  \n",
    "`set.union(set2)`: Returns a new set containing all items from both sets.  \n",
    "`set.intersection(set2)`: Returns a new set containing items present in both sets.  \n"
   ]
  },
  {
   "attachments": {},
   "cell_type": "markdown",
   "metadata": {},
   "source": [
    "# Dictionaries -> `dict` or `{}`\n",
    "\n",
    "**Dictionaries are unordered collections of key-value pairs.**  \n",
    "\n",
    "Dictionaries are the hashes in python. They are also objects and allow to store a key-value relationship, as you know the keys in a dictionary or hash must be unique, while the values can be repeated. The flexibility of dictionaries in python allows to have dictionaries that *point* to other data structures such as tuples, lists and even other dictionaries.\n",
    "\n",
    "Note, although it may sometimes appear that the .keys() and .values() methods of a dictionary retain some order and even correspond to each other, simply calling them does not ensure that element 'n' of one is equivalent to element 'n' of the other. \n",
    "\n",
    "`len(dict)`: Returns the number of key-value pairs in the dictionary.  \n",
    "`dict.keys()`: Returns a view object displaying a list of all keys in the dictionary.  \n",
    "`dict.values()`: Returns a view object displaying a list of all values in the dictionary.  \n",
    "`dict.items()`: Returns a view object displaying a list of all key-value pairs in the dictionary as tuples.  \n",
    "`dict.get(key, default)`: Returns the value associated with the specified key. If the key is not found, it returns the default value (or None if no default value is provided).  \n",
    "`dict.update(dict2)`: Updates the dictionary with the key-value pairs from another dictionary, overwriting existing keys with new values.  \n",
    "`dict.pop(key, default)`: Removes and returns the value associated with the specified key. If the key is not found, it returns the default value (or raises a KeyError if no default value is provided).  "
   ]
  },
  {
   "attachments": {},
   "cell_type": "markdown",
   "metadata": {},
   "source": [
    "> Content created by **Carlos Cruz-Maldonado**.  \n",
    "> Feel free to ping me at any time."
   ]
  },
  {
   "attachments": {},
   "cell_type": "markdown",
   "metadata": {},
   "source": [
    "# Exercises"
   ]
  },
  {
   "attachments": {},
   "cell_type": "markdown",
   "metadata": {},
   "source": [
    "### Data Types:  \n",
    "    a. Declare variables with different data types (integer, float, string, boolean) and print their values  \n",
    "    b. Convert between data types (e.g. convert a string to an integer, or a float to a string)  \n",
    "    c. Use basic mathematical operations on different data types (e.g. addition, subtraction, multiplication, division)  \n",
    "\n",
    "### Mutability and immutability of Python data types:  \n",
    "    a. Create a string, a list, a dictionary, and a tuple. Assign each one to a different variable.  \n",
    "    b. Try to modify the value of the string, the list, the dictionary, and the tuple. What happens and why?  \n",
    "    c. Create a new string, list, dictionary, and tuple that are equal to the original ones. Modify the new ones and compare the original and new variables. What happened and why?  \n",
    "    d. Create a new string and assign it to a variable. Concatenate the string with another string and assign the result to a new variable.    \n",
    "\n",
    "### Create a string that contains a quote and use string methods to:  \n",
    "    a. Convert the string to uppercase and assign it to a new variable  \n",
    "    b. Replace a word in the string with another word and assign it to a new variable  \n",
    "    c. Count the number of times a specific character appears in the string  \n",
    "    d. Split the string into a list of words and assign it to a new variable  \n",
    "\n",
    "### Create a list of numbers and use list methods to:  \n",
    "    a. Append a new number to the end of the list  \n",
    "    b. Insert a new number at a specific index  \n",
    "    c. Remove an element from the list using its value  \n",
    "    d. Sort the list in ascending or descending order  \n",
    "\n",
    "### Create a dictionary that represents a person's information and use dictionary methods to:  \n",
    "    a. Add a new key-value pair to the dictionary  \n",
    "    b. Remove a key-value pair from the dictionary  \n",
    "    c. Get the value of a specific key and assign it to a new variable  \n",
    "    d. Check if a key exists in the dictionary  \n",
    "\n",
    "### Create a tuple of strings and use tuple methods to:  \n",
    "    a. Concatenate two tuples and assign it to a new variable  \n",
    "    b. Repeat the tuple a certain number of times and assign it to a new variable  \n",
    "    c. Find the index of a specific element in the tuple  \n",
    "    d. Check if a specific element is present in the tuple  "
   ]
  }
 ],
 "metadata": {
  "kernelspec": {
   "display_name": "Python 3.7.9 ('personal')",
   "language": "python",
   "name": "python3"
  },
  "language_info": {
   "codemirror_mode": {
    "name": "ipython",
    "version": 3
   },
   "file_extension": ".py",
   "mimetype": "text/x-python",
   "name": "python",
   "nbconvert_exporter": "python",
   "pygments_lexer": "ipython3",
   "version": "3.7.9"
  },
  "orig_nbformat": 4,
  "vscode": {
   "interpreter": {
    "hash": "252948c43895fb2cefa730c41b16e760efc56873c993d09cfc8bab107a8b51fd"
   }
  }
 },
 "nbformat": 4,
 "nbformat_minor": 2
}
