{
 "cells": [
  {
   "attachments": {},
   "cell_type": "markdown",
   "metadata": {},
   "source": [
    "# Control Structures"
   ]
  },
  {
   "attachments": {},
   "cell_type": "markdown",
   "metadata": {},
   "source": [
    "## Conditional Statements\n",
    "\n",
    "So far, we know how to define variables, so we can create slightly more advanced code blocks. The first thing we want to do is create a new variable called `under_age` and we will need to define it using a contitional statement. To do this, it will be useful to remember the comparison operators (`<, >, <=, >=, ==, !=`).\n",
    "\n",
    "The idea is as follows, if the person is a minor, the value of this variable will be ``True`` and will be ``False`` in the other case.\n",
    "\n",
    "Conditional statements (if-else): This allows a program to execute certain code blocks only if a certain condition is met. The basic syntax for an if-else statement is:\n",
    "\n",
    "````python\n",
    "if condition: # execute code block if condition is True\n",
    "    # Block of code for a satisfied condition. \n",
    "    \n",
    "else: # execute code block if condition is False\n",
    "    # Block of code for a non-satisfied condition. \n",
    "```\n",
    "\n",
    "#### Example:"
   ]
  },
  {
   "cell_type": "code",
   "execution_count": 1,
   "metadata": {},
   "outputs": [
    {
     "name": "stdout",
     "output_type": "stream",
     "text": [
      "Indeed, this dog is black.\n"
     ]
    }
   ],
   "source": [
    "dog_color = \"black\"\n",
    "\n",
    "if dog_color == \"black\":\n",
    "    print(\"Indeed, this dog is black.\")\n",
    "else:\n",
    "    print(\"Nope, it is not a black dog.\")"
   ]
  },
  {
   "attachments": {},
   "cell_type": "markdown",
   "metadata": {},
   "source": [
    "In the case of having more than one condition, we can use `elif` statements:\n",
    "\n",
    "```python\n",
    "if condition_one:\n",
    "    # Block of code for a satisfied condition one\n",
    "elif condition_two:\n",
    "    # Block of code for a satisfied condition two\n",
    "...\n",
    "elif condition_nth:\n",
    "    # Block of code for a satisfied condition nth.\n",
    "else:\n",
    "    # Block of code for non-satisfied conditions.\n",
    "```\n",
    "\n",
    "#### Exercise:\n",
    "\n",
    "Now create a condition to define a new variable called `under_age` that will compare whether the age is greater than or equal to 18 to set it to ``False`` or ``True`` in the other case."
   ]
  },
  {
   "cell_type": "code",
   "execution_count": 7,
   "metadata": {},
   "outputs": [
    {
     "name": "stdout",
     "output_type": "stream",
     "text": [
      "20 is considered an adult\n"
     ]
    }
   ],
   "source": [
    "# TODO.\n",
    "# Write a conditional to set the age.\n",
    "age = 20\n",
    "\n",
    "if age < 18:\n",
    "    print(f\"{age} is considered under age\")\n",
    "else:\n",
    "    print(f\"{age} is considered an adult\")"
   ]
  },
  {
   "cell_type": "code",
   "execution_count": 5,
   "metadata": {},
   "outputs": [
    {
     "data": {
      "text/plain": [
       "'10 is considered under age'"
      ]
     },
     "execution_count": 5,
     "metadata": {},
     "output_type": "execute_result"
    }
   ],
   "source": [
    "\"{} is considered under age\".format(age)"
   ]
  },
  {
   "attachments": {},
   "cell_type": "markdown",
   "metadata": {},
   "source": [
    "## Loops\n",
    "\n",
    "Iteration means executing the same block of code over and over again. A programming structure that implements iteration is called a loop (or cycle).\n",
    "Loops allow a program to repeat a set of instructions multiple times. \n",
    "\n",
    "There are two types of iteration:\n",
    "\n",
    "* **Defined iteration**, in which the number of iterations is explicitly specified in advance.\n",
    "* **Undefined iteration**, in which the code block is executed until some condition is met.\n",
    "\n",
    "The two main types of loops in Python are `for` loops and `while` loops. Indefinite iteration is performed with a `while` loop and definite iteration is performed with a `for` loop.\n",
    "\n",
    "### For Loop\n",
    "\n",
    "The `for` we have in Python is a special `for` that only acts on iterable objects, that is to say that it does not add to a variable but it goes through a vector element by element.\n",
    "\n",
    "````python\n",
    "for element in sequence:\n",
    "    # execute code block for each element in the sequence\n",
    "````"
   ]
  },
  {
   "attachments": {},
   "cell_type": "markdown",
   "metadata": {},
   "source": [
    "We can iterate through a range of numbers:"
   ]
  },
  {
   "cell_type": "code",
   "execution_count": 10,
   "metadata": {},
   "outputs": [
    {
     "data": {
      "text/plain": [
       "range(1, 20, 2)"
      ]
     },
     "execution_count": 10,
     "metadata": {},
     "output_type": "execute_result"
    }
   ],
   "source": [
    "# We create an iterable with the function range\n",
    "# range(start, stop, steps)\n",
    "counting = range(1,20,2)\n",
    "counting"
   ]
  },
  {
   "cell_type": "code",
   "execution_count": 11,
   "metadata": {},
   "outputs": [
    {
     "name": "stdout",
     "output_type": "stream",
     "text": [
      "The current number in iterations is 1\n",
      "The current number in iterations is 3\n",
      "The current number in iterations is 5\n",
      "The current number in iterations is 7\n",
      "The current number in iterations is 9\n",
      "The current number in iterations is 11\n",
      "The current number in iterations is 13\n",
      "The current number in iterations is 15\n",
      "The current number in iterations is 17\n",
      "The current number in iterations is 19\n",
      "done\n"
     ]
    }
   ],
   "source": [
    "for number in counting:\n",
    "    print(f\"The current number in iterations is {number}\")\n",
    "print('done')"
   ]
  },
  {
   "attachments": {},
   "cell_type": "markdown",
   "metadata": {},
   "source": [
    "We can iterate through the elements of a list:"
   ]
  },
  {
   "cell_type": "code",
   "execution_count": 16,
   "metadata": {},
   "outputs": [
    {
     "name": "stdout",
     "output_type": "stream",
     "text": [
      "The current month is January, and it's number is 1.\n",
      "The current month is February, and it's number is 2.\n",
      "The current month is March, and it's number is 3.\n",
      "The current month is April, and it's number is 4.\n",
      "The current month is May, and it's number is 5.\n",
      "The current month is June, and it's number is 6.\n",
      "The current month is July, and it's number is 7.\n",
      "The current month is August, and it's number is 8.\n",
      "The current month is September, and it's number is 9.\n",
      "The current month is October, and it's number is 10.\n",
      "The current month is November, and it's number is 11.\n",
      "The current month is December, and it's number is 12.\n"
     ]
    }
   ],
   "source": [
    "months = [\n",
    "    'January',\n",
    "    'February',\n",
    "    'March',\n",
    "    'April',\n",
    "    'May',\n",
    "    'June',\n",
    "    'July',\n",
    "    'August',\n",
    "    'September',\n",
    "    'October',\n",
    "    'November',\n",
    "    'December',\n",
    "]\n",
    "\n",
    "for month_number, month in enumerate(months, 1):\n",
    "    print(f\"The current month is {month}, and it's number is {month_number}.\")"
   ]
  },
  {
   "cell_type": "code",
   "execution_count": 15,
   "metadata": {},
   "outputs": [
    {
     "data": {
      "text/plain": [
       "[(1, 'January'),\n",
       " (2, 'February'),\n",
       " (3, 'March'),\n",
       " (4, 'April'),\n",
       " (5, 'May'),\n",
       " (6, 'June'),\n",
       " (7, 'July'),\n",
       " (8, 'August'),\n",
       " (9, 'September'),\n",
       " (10, 'October'),\n",
       " (11, 'November'),\n",
       " (12, 'December')]"
      ]
     },
     "execution_count": 15,
     "metadata": {},
     "output_type": "execute_result"
    }
   ],
   "source": [
    "list(enumerate(months, 1))"
   ]
  },
  {
   "attachments": {},
   "cell_type": "markdown",
   "metadata": {},
   "source": [
    "That is the basic syntax of a `for`, note that the identation is what tells you which lines of code are part of the `for` iteration.  \n",
    "\n",
    "### While Loop\n",
    "\n",
    "On the other hand the syntax of the `while` loop is similar to that of the `for`, followed by a colon and the block identified in a correct way. \n",
    "\n",
    "`While` loops are used to repeatedly execute a code block as long as a certain condition is met. For a `while` cycle it is important to establish a **stop condition**.  \n",
    "The basic syntax for a while loop is:\n",
    "\n",
    "```python\n",
    "while condition:\n",
    "    # execute code block while condition is True\n",
    "```\n",
    "\n",
    "In this example we use the final value of the variable **i** that was going through the count vector."
   ]
  },
  {
   "cell_type": "code",
   "execution_count": 18,
   "metadata": {},
   "outputs": [
    {
     "name": "stdout",
     "output_type": "stream",
     "text": [
      "2\n",
      "4\n",
      "6\n",
      "8\n",
      "10\n",
      "12\n",
      "14\n",
      "16\n",
      "18\n",
      "20\n",
      "done\n"
     ]
    }
   ],
   "source": [
    "stop_at = 20\n",
    "x = 0\n",
    "while x < stop_at:\n",
    "    x = x + 2\n",
    "    print(x)\n",
    "print('done')"
   ]
  },
  {
   "attachments": {},
   "cell_type": "markdown",
   "metadata": {},
   "source": [
    "The if has a syntax similar to that of the while, however, it is not necessary to write the condition in brackets, the operators **or** and **and** are written as they are:"
   ]
  },
  {
   "cell_type": "code",
   "execution_count": 19,
   "metadata": {},
   "outputs": [
    {
     "name": "stdout",
     "output_type": "stream",
     "text": [
      "Yes\n"
     ]
    }
   ],
   "source": [
    "a,b = 2,3 # You can modify these numbers to see how the result changes\n",
    "if a>b or b<5:\n",
    "    print(\"Yes\")\n",
    "elif a==b:\n",
    "    print(\"Equal\")\n",
    "else:\n",
    "    print(\"No\")"
   ]
  },
  {
   "cell_type": "code",
   "execution_count": 26,
   "metadata": {},
   "outputs": [
    {
     "data": {
      "text/plain": [
       "True"
      ]
     },
     "execution_count": 26,
     "metadata": {},
     "output_type": "execute_result"
    }
   ],
   "source": [
    "a>b or b<5"
   ]
  },
  {
   "cell_type": "code",
   "execution_count": 21,
   "metadata": {},
   "outputs": [
    {
     "data": {
      "text/plain": [
       "True"
      ]
     },
     "execution_count": 21,
     "metadata": {},
     "output_type": "execute_result"
    }
   ],
   "source": [
    "b<5"
   ]
  },
  {
   "attachments": {},
   "cell_type": "markdown",
   "metadata": {},
   "source": [
    "> Content created by **Carlos Cruz-Maldonado**.  \n",
    "> Feel free to ping me at any time."
   ]
  }
 ],
 "metadata": {
  "kernelspec": {
   "display_name": "personal",
   "language": "python",
   "name": "python3"
  },
  "language_info": {
   "codemirror_mode": {
    "name": "ipython",
    "version": 3
   },
   "file_extension": ".py",
   "mimetype": "text/x-python",
   "name": "python",
   "nbconvert_exporter": "python",
   "pygments_lexer": "ipython3",
   "version": "3.9.12"
  },
  "orig_nbformat": 4,
  "vscode": {
   "interpreter": {
    "hash": "252948c43895fb2cefa730c41b16e760efc56873c993d09cfc8bab107a8b51fd"
   }
  }
 },
 "nbformat": 4,
 "nbformat_minor": 2
}
