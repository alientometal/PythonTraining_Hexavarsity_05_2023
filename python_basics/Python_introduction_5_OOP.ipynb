{
 "cells": [
  {
   "attachments": {},
   "cell_type": "markdown",
   "metadata": {},
   "source": [
    "# Object Oriented Programming"
   ]
  },
  {
   "attachments": {},
   "cell_type": "markdown",
   "metadata": {},
   "source": [
    "## Class\n",
    "In Python, a class is a blueprint or a template for creating objects. It defines a set of attributes and methods that describe the behavior and properties of the objects of that class.\n",
    "\n",
    "To define a class in Python, you use the `class` keyword followed by the name of the class.  \n",
    "Here's an example:\n",
    "```python\n",
    "class Person:\n",
    "    def __init__(self, name, age):\n",
    "        self.name = name\n",
    "        self.age = age\n",
    "    \n",
    "    def greet(self):\n",
    "        print(\"Hello, my name is\", self.name)\n",
    "```\n",
    "In this example, we have defined a class called `Person` that has two attributes, `name` and `age`, and one method, `greet()`. The `__init__` method is a special method that is called when an object of the class is created. It initializes the attributes of the object with the values that are passed as arguments.\n",
    "\n",
    "To create an object of the `Person` class, we simply call the class and pass the necessary arguments:\n",
    "```python\n",
    "p = Person(\"Noam\", 94)\n",
    "```\n",
    "\n",
    "This creates a new object of the `Person` class with the `name` attribute set to \"Noam\" and the age attribute set to 94. We can then call the `greet()` method on the object:\n",
    "\n",
    "```python\n",
    "p.greet()\n",
    "```\n",
    "\n",
    "This will print **\"Hello, my name is Noam\"**.\n",
    "\n",
    "Classes in Python can also have class attributes and methods that are shared by all objects of the class, as well as static methods that are not related to any object but are still part of the class. Additionally, Python supports inheritance, which allows you to create new classes that are based on existing classes, inheriting their attributes and methods."
   ]
  },
  {
   "attachments": {},
   "cell_type": "markdown",
   "metadata": {},
   "source": [
    "## Class Inheritance\n",
    "Inheritance is a mechanism that allows a new class to be based on an existing class, inheriting its attributes and methods. The new class is called the subclass, and the existing class is called the superclass. The subclass can add new attributes and methods, or it can override the attributes and methods of the superclass.\n",
    "\n",
    "To create a subclass in Python, you define a new class that inherits from the superclass using the `super()` function.  \n",
    "\n",
    "Here is an example of a subclass that inherits from the superclass:\n",
    "```python\n",
    "class Animal:\n",
    "    def __init__(self, name):\n",
    "        self.name = name\n",
    "    \n",
    "    def make_sound(self):\n",
    "        pass\n",
    "\n",
    "class Dog(Animal):\n",
    "    def make_sound(self):\n",
    "        print(\"Woof!\")\n",
    "```\n",
    "In this example, we have a superclass called Animal with an __init__() method that initializes the name attribute and a make_sound() method that does nothing. We then define a subclass called Dog that inherits from Animal and overrides the make_sound() method to print \"Woof!\".\n"
   ]
  },
  {
   "cell_type": "code",
   "execution_count": 2,
   "metadata": {},
   "outputs": [],
   "source": [
    "class Animal:\n",
    "    def __init__(self, name):\n",
    "        self.name = name\n",
    "    \n",
    "    def make_sound(self):\n",
    "        pass\n",
    "\n",
    "class Dog(Animal):\n",
    "    def make_sound(self):\n",
    "        print(\"Woof!\")\n",
    "        \n",
    "class Duck(Animal):\n",
    "    def make_sound(self):\n",
    "        print(\"Quack!\")"
   ]
  },
  {
   "cell_type": "code",
   "execution_count": 4,
   "metadata": {},
   "outputs": [],
   "source": [
    "Nova = Dog(\"Nova\")\n",
    "Nova.make_sound()"
   ]
  },
  {
   "cell_type": "code",
   "execution_count": 7,
   "metadata": {},
   "outputs": [
    {
     "name": "stdout",
     "output_type": "stream",
     "text": [
      "Quack!\n"
     ]
    }
   ],
   "source": [
    "Donald = Duck(\"Donald\")\n",
    "Donald.make_sound()"
   ]
  },
  {
   "attachments": {},
   "cell_type": "markdown",
   "metadata": {},
   "source": [
    "\n",
    "## Polymorphism\n",
    "\n",
    "Polymorphism is the ability of objects of different classes to be used in the same way. In Python, polymorphism is achieved through inheritance and method overriding. When a method is called on an object, Python first looks for the method in the class of the object. If it is not found, it looks in the superclass, and so on, until the method is found or there are no more superclasses to search.\n",
    "\n",
    "Here's an example of polymorphism in action:\n",
    "\n",
    "```python\n",
    "def make_animal_sound(animal):\n",
    "    animal.make_sound()\n",
    "\n",
    "a = Animal(\"Generic Animal\")\n",
    "d = Dog(\"Fido\")\n",
    "\n",
    "make_animal_sound(a)  # Does nothing\n",
    "make_animal_sound(d)  # Prints \"Woof!\"\n",
    "\n",
    "```\n",
    "In this example, we define a function called make_animal_sound() that takes an object of any class that has a make_sound() method. We then create two objects, one of the Animal class and one of the Dog class, and pass them to the function. When the function is called on the Animal object, it does nothing, but when it is called on the Dog object, it prints \"Woof!\". This is an example of polymorphism, where objects of different classes are used in the same way. "
   ]
  },
  {
   "cell_type": "code",
   "execution_count": 8,
   "metadata": {},
   "outputs": [
    {
     "name": "stdout",
     "output_type": "stream",
     "text": [
      "Woof!\n"
     ]
    }
   ],
   "source": [
    "def make_animal_sound(animal):\n",
    "    animal.make_sound()\n",
    "\n",
    "a = Animal(\"Generic Animal\")\n",
    "d = Dog(\"Fido\")\n",
    "\n",
    "make_animal_sound(a)  # Does nothing\n",
    "make_animal_sound(d)  # Prints \"Woof!\""
   ]
  },
  {
   "attachments": {},
   "cell_type": "markdown",
   "metadata": {},
   "source": [
    "## Class Methods\n",
    "\n",
    "A class method is a method that is bound to the class and not the instance of the class. It is created using the @classmethod decorator, and the first parameter of the method is always the class itself, conventionally named cls.\n",
    "\n",
    "Here's an example:\n",
    "```python\n",
    "class MyClass:\n",
    "    class_var = 0\n",
    "\n",
    "    def __init__(self, inst_var):\n",
    "        self.inst_var = inst_var\n",
    "\n",
    "    @classmethod\n",
    "    def class_method(cls, x):\n",
    "        cls.class_var += x\n",
    "\n",
    "    def instance_method(self):\n",
    "        self.inst_var += 1\n",
    "\n",
    "```\n",
    "\n",
    "In this example, we define a class called MyClass with a class variable class_var and an instance variable inst_var. We also define a class method called class_method() using the @classmethod decorator, which increments the class_var variable by the value of its argument. The instance_method() method, on the other hand, increments the inst_var instance variable.\n"
   ]
  },
  {
   "cell_type": "code",
   "execution_count": 25,
   "metadata": {},
   "outputs": [],
   "source": [
    "class MyClass:\n",
    "    class_var = 0\n",
    "\n",
    "    def __init__(self, inst_var):\n",
    "        self.inst_var = inst_var\n",
    "\n",
    "    @classmethod\n",
    "    def class_method(cls, x):\n",
    "        cls.class_var += x\n",
    "\n",
    "    def instance_method(self):\n",
    "        self.inst_var += 1\n",
    "    \n",
    "    @staticmethod\n",
    "    def squared(x):\n",
    "        return x**2"
   ]
  },
  {
   "cell_type": "code",
   "execution_count": 28,
   "metadata": {},
   "outputs": [
    {
     "data": {
      "text/plain": [
       "25"
      ]
     },
     "execution_count": 28,
     "metadata": {},
     "output_type": "execute_result"
    }
   ],
   "source": [
    "MyClass(10).squared(5)"
   ]
  },
  {
   "cell_type": "code",
   "execution_count": 14,
   "metadata": {},
   "outputs": [],
   "source": [
    "a = MyClass(0)\n",
    "b = MyClass(0)"
   ]
  },
  {
   "cell_type": "code",
   "execution_count": 19,
   "metadata": {},
   "outputs": [
    {
     "data": {
      "text/plain": [
       "5"
      ]
     },
     "execution_count": 19,
     "metadata": {},
     "output_type": "execute_result"
    }
   ],
   "source": [
    "a.instance_method()\n",
    "a.inst_var"
   ]
  },
  {
   "cell_type": "code",
   "execution_count": 20,
   "metadata": {},
   "outputs": [
    {
     "data": {
      "text/plain": [
       "0"
      ]
     },
     "execution_count": 20,
     "metadata": {},
     "output_type": "execute_result"
    }
   ],
   "source": [
    "a.class_var"
   ]
  },
  {
   "cell_type": "code",
   "execution_count": 21,
   "metadata": {},
   "outputs": [
    {
     "data": {
      "text/plain": [
       "15"
      ]
     },
     "execution_count": 21,
     "metadata": {},
     "output_type": "execute_result"
    }
   ],
   "source": [
    "a.class_method(15)\n",
    "a.class_var"
   ]
  },
  {
   "cell_type": "code",
   "execution_count": 22,
   "metadata": {},
   "outputs": [
    {
     "data": {
      "text/plain": [
       "15"
      ]
     },
     "execution_count": 22,
     "metadata": {},
     "output_type": "execute_result"
    }
   ],
   "source": [
    "b.class_var"
   ]
  },
  {
   "cell_type": "code",
   "execution_count": 23,
   "metadata": {},
   "outputs": [
    {
     "data": {
      "text/plain": [
       "0"
      ]
     },
     "execution_count": 23,
     "metadata": {},
     "output_type": "execute_result"
    }
   ],
   "source": [
    "b.inst_var"
   ]
  },
  {
   "attachments": {},
   "cell_type": "markdown",
   "metadata": {},
   "source": [
    "\n",
    "## Static Methods\n",
    "A static method is a method that belongs to the class but does not operate on the instance or the class itself. It is created using the @staticmethod decorator and does not take any special parameters. Static methods are typically used as utility functions that are related to the class but do not require access to any instance or class data.\n",
    "\n",
    "Here's an example:\n",
    "```python\n",
    "class MyClass:\n",
    "    @staticmethod\n",
    "    def static_method(x):\n",
    "        return x * 2\n",
    "\n",
    "```\n",
    "\n",
    "In this example, we define a class called MyClass with a static method called static_method(). The method takes an argument x and returns x * 2. Because the method is a static method, it does not have access to any instance or class data and can be called directly on the class without creating an instance of the class."
   ]
  },
  {
   "cell_type": "code",
   "execution_count": 29,
   "metadata": {},
   "outputs": [],
   "source": [
    "class MyClass:\n",
    "    def __init__(self,x):\n",
    "        self.x = x\n",
    "    \n",
    "    @staticmethod\n",
    "    def static_method(x):\n",
    "        return x * 2\n",
    "    \n",
    "    def not_static_method(self):\n",
    "        return self.x * 2"
   ]
  },
  {
   "cell_type": "code",
   "execution_count": 33,
   "metadata": {},
   "outputs": [],
   "source": [
    "c = MyClass(5)"
   ]
  },
  {
   "cell_type": "code",
   "execution_count": 34,
   "metadata": {},
   "outputs": [
    {
     "data": {
      "text/plain": [
       "10"
      ]
     },
     "execution_count": 34,
     "metadata": {},
     "output_type": "execute_result"
    }
   ],
   "source": [
    "c.not_static_method()"
   ]
  },
  {
   "cell_type": "code",
   "execution_count": 36,
   "metadata": {},
   "outputs": [
    {
     "data": {
      "text/plain": [
       "16"
      ]
     },
     "execution_count": 36,
     "metadata": {},
     "output_type": "execute_result"
    }
   ],
   "source": [
    "c.static_method(8)"
   ]
  },
  {
   "attachments": {},
   "cell_type": "markdown",
   "metadata": {},
   "source": [
    "## Additional examples\n",
    "\n",
    "Here's an example of class hierarchy that demonstrates inheritance:\n",
    "\n",
    "```python\n",
    "class Animal:\n",
    "    def __init__(self, species):\n",
    "        self.species = species\n",
    "\n",
    "    def move(self):\n",
    "        print(f\"The {self.species} moves.\")\n",
    "\n",
    "class Bird(Animal):\n",
    "    def __init__(self, species):\n",
    "        super().__init__(species)\n",
    "\n",
    "    def fly(self):\n",
    "        print(f\"The {self.species} flies.\")\n",
    "\n",
    "class Fish(Animal):\n",
    "    def __init__(self, species):\n",
    "        super().__init__(species)\n",
    "\n",
    "    def swim(self):\n",
    "        print(f\"The {self.species} swims.\")\n",
    "```\n",
    "In this example, we define three classes: `Animal`, `Bird`, and `Fish`. The `Bird` and `Fish` classes inherit from the `Animal` class.\n",
    "\n",
    "The `Animal` class has an `__init__()` method that takes a `species` argument, which is stored as an instance variable. It also has a `move()` method, which prints a message indicating that the animal moves.\n",
    "\n",
    "The `Bird` class inherits from the `Animal` class and has its own `__init__()` method that calls the parent class's `__init__()` method using `super()`. It also has a `fly()` method, which prints a message indicating that the bird flies.\n",
    "\n",
    "The `Fish` class also inherits from the `Animal` class and has its own `__init__()` method that calls the parent class's `__init__()` method using `super()`. It also has a `swim()` method, which prints a message indicating that the fish swims.\n",
    "\n",
    "By using inheritance, we can reuse the code from the `Animal` class in the `Bird` and `Fish` classes, while adding additional functionality specific to each subclass.\n"
   ]
  },
  {
   "attachments": {},
   "cell_type": "markdown",
   "metadata": {},
   "source": [
    "> Content created by **Carlos Cruz-Maldonado**.  \n",
    "> Feel free to ping me at any time."
   ]
  }
 ],
 "metadata": {
  "kernelspec": {
   "display_name": "personal",
   "language": "python",
   "name": "python3"
  },
  "language_info": {
   "codemirror_mode": {
    "name": "ipython",
    "version": 3
   },
   "file_extension": ".py",
   "mimetype": "text/x-python",
   "name": "python",
   "nbconvert_exporter": "python",
   "pygments_lexer": "ipython3",
   "version": "3.9.12"
  },
  "orig_nbformat": 4,
  "vscode": {
   "interpreter": {
    "hash": "252948c43895fb2cefa730c41b16e760efc56873c993d09cfc8bab107a8b51fd"
   }
  }
 },
 "nbformat": 4,
 "nbformat_minor": 2
}
